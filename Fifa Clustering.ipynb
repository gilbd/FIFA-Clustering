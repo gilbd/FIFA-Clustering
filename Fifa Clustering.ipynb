{
 "cells": [
  {
   "cell_type": "markdown",
   "metadata": {},
   "source": [
    "# Fifa Challenge"
   ]
  },
  {
   "cell_type": "markdown",
   "metadata": {},
   "source": [
    "In the following notebook I'll demonstrate clustering methods on the FIFA 20 dataset from [Kaggle](https://www.kaggle.com/stefanoleone992/fifa-20-complete-player-dataset?select=players_20.csv).  \n",
    "My goal in this review is to cluster the players by the *team_position* column (of course, without this col..)."
   ]
  },
  {
   "cell_type": "markdown",
   "metadata": {},
   "source": [
    "# 0. Import"
   ]
  },
  {
   "cell_type": "code",
   "execution_count": 27,
   "metadata": {
    "ExecuteTime": {
     "end_time": "2020-10-11T12:55:42.894417Z",
     "start_time": "2020-10-11T12:55:42.888389Z"
    }
   },
   "outputs": [],
   "source": [
    "import pandas as pd\n",
    "import matplotlib.pyplot as plt\n",
    "import numpy as np\n",
    "import seaborn as sns\n",
    "\n",
    "sns.set(style='darkgrid')\n",
    "%matplotlib inline"
   ]
  },
  {
   "cell_type": "code",
   "execution_count": 28,
   "metadata": {
    "ExecuteTime": {
     "end_time": "2020-10-11T12:55:43.179428Z",
     "start_time": "2020-10-11T12:55:42.896432Z"
    },
    "scrolled": true
   },
   "outputs": [
    {
     "data": {
      "text/html": [
       "<div>\n",
       "<style scoped>\n",
       "    .dataframe tbody tr th:only-of-type {\n",
       "        vertical-align: middle;\n",
       "    }\n",
       "\n",
       "    .dataframe tbody tr th {\n",
       "        vertical-align: top;\n",
       "    }\n",
       "\n",
       "    .dataframe thead th {\n",
       "        text-align: right;\n",
       "    }\n",
       "</style>\n",
       "<table border=\"1\" class=\"dataframe\">\n",
       "  <thead>\n",
       "    <tr style=\"text-align: right;\">\n",
       "      <th></th>\n",
       "      <th>sofifa_id</th>\n",
       "      <th>player_url</th>\n",
       "      <th>short_name</th>\n",
       "      <th>long_name</th>\n",
       "      <th>age</th>\n",
       "      <th>dob</th>\n",
       "      <th>height_cm</th>\n",
       "      <th>weight_kg</th>\n",
       "      <th>nationality</th>\n",
       "      <th>club</th>\n",
       "      <th>...</th>\n",
       "      <th>lwb</th>\n",
       "      <th>ldm</th>\n",
       "      <th>cdm</th>\n",
       "      <th>rdm</th>\n",
       "      <th>rwb</th>\n",
       "      <th>lb</th>\n",
       "      <th>lcb</th>\n",
       "      <th>cb</th>\n",
       "      <th>rcb</th>\n",
       "      <th>rb</th>\n",
       "    </tr>\n",
       "  </thead>\n",
       "  <tbody>\n",
       "    <tr>\n",
       "      <th>0</th>\n",
       "      <td>158023</td>\n",
       "      <td>https://sofifa.com/player/158023/lionel-messi/...</td>\n",
       "      <td>L. Messi</td>\n",
       "      <td>Lionel Andrés Messi Cuccittini</td>\n",
       "      <td>32</td>\n",
       "      <td>1987-06-24</td>\n",
       "      <td>170</td>\n",
       "      <td>72</td>\n",
       "      <td>Argentina</td>\n",
       "      <td>FC Barcelona</td>\n",
       "      <td>...</td>\n",
       "      <td>68+2</td>\n",
       "      <td>66+2</td>\n",
       "      <td>66+2</td>\n",
       "      <td>66+2</td>\n",
       "      <td>68+2</td>\n",
       "      <td>63+2</td>\n",
       "      <td>52+2</td>\n",
       "      <td>52+2</td>\n",
       "      <td>52+2</td>\n",
       "      <td>63+2</td>\n",
       "    </tr>\n",
       "    <tr>\n",
       "      <th>1</th>\n",
       "      <td>20801</td>\n",
       "      <td>https://sofifa.com/player/20801/c-ronaldo-dos-...</td>\n",
       "      <td>Cristiano Ronaldo</td>\n",
       "      <td>Cristiano Ronaldo dos Santos Aveiro</td>\n",
       "      <td>34</td>\n",
       "      <td>1985-02-05</td>\n",
       "      <td>187</td>\n",
       "      <td>83</td>\n",
       "      <td>Portugal</td>\n",
       "      <td>Juventus</td>\n",
       "      <td>...</td>\n",
       "      <td>65+3</td>\n",
       "      <td>61+3</td>\n",
       "      <td>61+3</td>\n",
       "      <td>61+3</td>\n",
       "      <td>65+3</td>\n",
       "      <td>61+3</td>\n",
       "      <td>53+3</td>\n",
       "      <td>53+3</td>\n",
       "      <td>53+3</td>\n",
       "      <td>61+3</td>\n",
       "    </tr>\n",
       "    <tr>\n",
       "      <th>2</th>\n",
       "      <td>190871</td>\n",
       "      <td>https://sofifa.com/player/190871/neymar-da-sil...</td>\n",
       "      <td>Neymar Jr</td>\n",
       "      <td>Neymar da Silva Santos Junior</td>\n",
       "      <td>27</td>\n",
       "      <td>1992-02-05</td>\n",
       "      <td>175</td>\n",
       "      <td>68</td>\n",
       "      <td>Brazil</td>\n",
       "      <td>Paris Saint-Germain</td>\n",
       "      <td>...</td>\n",
       "      <td>66+3</td>\n",
       "      <td>61+3</td>\n",
       "      <td>61+3</td>\n",
       "      <td>61+3</td>\n",
       "      <td>66+3</td>\n",
       "      <td>61+3</td>\n",
       "      <td>46+3</td>\n",
       "      <td>46+3</td>\n",
       "      <td>46+3</td>\n",
       "      <td>61+3</td>\n",
       "    </tr>\n",
       "    <tr>\n",
       "      <th>3</th>\n",
       "      <td>200389</td>\n",
       "      <td>https://sofifa.com/player/200389/jan-oblak/20/...</td>\n",
       "      <td>J. Oblak</td>\n",
       "      <td>Jan Oblak</td>\n",
       "      <td>26</td>\n",
       "      <td>1993-01-07</td>\n",
       "      <td>188</td>\n",
       "      <td>87</td>\n",
       "      <td>Slovenia</td>\n",
       "      <td>Atlético Madrid</td>\n",
       "      <td>...</td>\n",
       "      <td>NaN</td>\n",
       "      <td>NaN</td>\n",
       "      <td>NaN</td>\n",
       "      <td>NaN</td>\n",
       "      <td>NaN</td>\n",
       "      <td>NaN</td>\n",
       "      <td>NaN</td>\n",
       "      <td>NaN</td>\n",
       "      <td>NaN</td>\n",
       "      <td>NaN</td>\n",
       "    </tr>\n",
       "    <tr>\n",
       "      <th>4</th>\n",
       "      <td>183277</td>\n",
       "      <td>https://sofifa.com/player/183277/eden-hazard/2...</td>\n",
       "      <td>E. Hazard</td>\n",
       "      <td>Eden Hazard</td>\n",
       "      <td>28</td>\n",
       "      <td>1991-01-07</td>\n",
       "      <td>175</td>\n",
       "      <td>74</td>\n",
       "      <td>Belgium</td>\n",
       "      <td>Real Madrid</td>\n",
       "      <td>...</td>\n",
       "      <td>66+3</td>\n",
       "      <td>63+3</td>\n",
       "      <td>63+3</td>\n",
       "      <td>63+3</td>\n",
       "      <td>66+3</td>\n",
       "      <td>61+3</td>\n",
       "      <td>49+3</td>\n",
       "      <td>49+3</td>\n",
       "      <td>49+3</td>\n",
       "      <td>61+3</td>\n",
       "    </tr>\n",
       "  </tbody>\n",
       "</table>\n",
       "<p>5 rows × 104 columns</p>\n",
       "</div>"
      ],
      "text/plain": [
       "   sofifa_id                                         player_url  \\\n",
       "0     158023  https://sofifa.com/player/158023/lionel-messi/...   \n",
       "1      20801  https://sofifa.com/player/20801/c-ronaldo-dos-...   \n",
       "2     190871  https://sofifa.com/player/190871/neymar-da-sil...   \n",
       "3     200389  https://sofifa.com/player/200389/jan-oblak/20/...   \n",
       "4     183277  https://sofifa.com/player/183277/eden-hazard/2...   \n",
       "\n",
       "          short_name                            long_name  age         dob  \\\n",
       "0           L. Messi       Lionel Andrés Messi Cuccittini   32  1987-06-24   \n",
       "1  Cristiano Ronaldo  Cristiano Ronaldo dos Santos Aveiro   34  1985-02-05   \n",
       "2          Neymar Jr        Neymar da Silva Santos Junior   27  1992-02-05   \n",
       "3           J. Oblak                            Jan Oblak   26  1993-01-07   \n",
       "4          E. Hazard                          Eden Hazard   28  1991-01-07   \n",
       "\n",
       "   height_cm  weight_kg nationality                 club  ...   lwb   ldm  \\\n",
       "0        170         72   Argentina         FC Barcelona  ...  68+2  66+2   \n",
       "1        187         83    Portugal             Juventus  ...  65+3  61+3   \n",
       "2        175         68      Brazil  Paris Saint-Germain  ...  66+3  61+3   \n",
       "3        188         87    Slovenia      Atlético Madrid  ...   NaN   NaN   \n",
       "4        175         74     Belgium          Real Madrid  ...  66+3  63+3   \n",
       "\n",
       "    cdm   rdm   rwb    lb   lcb    cb   rcb    rb  \n",
       "0  66+2  66+2  68+2  63+2  52+2  52+2  52+2  63+2  \n",
       "1  61+3  61+3  65+3  61+3  53+3  53+3  53+3  61+3  \n",
       "2  61+3  61+3  66+3  61+3  46+3  46+3  46+3  61+3  \n",
       "3   NaN   NaN   NaN   NaN   NaN   NaN   NaN   NaN  \n",
       "4  63+3  63+3  66+3  61+3  49+3  49+3  49+3  61+3  \n",
       "\n",
       "[5 rows x 104 columns]"
      ]
     },
     "execution_count": 28,
     "metadata": {},
     "output_type": "execute_result"
    }
   ],
   "source": [
    "fifa = pd.read_csv('players_20.csv')\n",
    "fifa.head()"
   ]
  },
  {
   "cell_type": "markdown",
   "metadata": {},
   "source": [
    "We'll ignore the following columns:"
   ]
  },
  {
   "cell_type": "code",
   "execution_count": 29,
   "metadata": {
    "ExecuteTime": {
     "end_time": "2020-10-11T12:55:43.198428Z",
     "start_time": "2020-10-11T12:55:43.181390Z"
    }
   },
   "outputs": [],
   "source": [
    "df = fifa.drop([\n",
    "    'gk_diving', 'gk_handling', 'gk_kicking', \n",
    "    'gk_reflexes', 'gk_speed', 'gk_positioning', \n",
    "    'goalkeeping_handling', 'goalkeeping_kicking', \n",
    "    'goalkeeping_positioning', 'goalkeeping_reflexes', \n",
    "    'goalkeeping_diving','team_position', 'short_name', 'long_name'\n",
    "], axis=1)"
   ]
  },
  {
   "cell_type": "markdown",
   "metadata": {},
   "source": [
    "# 1. Data Wrangling"
   ]
  },
  {
   "cell_type": "markdown",
   "metadata": {},
   "source": [
    "We'd like to parse the player's position from the relevant column. We'll concentrate only in the first position, and leave the goal-keepers (no offense!) ."
   ]
  },
  {
   "cell_type": "code",
   "execution_count": 30,
   "metadata": {
    "ExecuteTime": {
     "end_time": "2020-10-11T12:55:43.251541Z",
     "start_time": "2020-10-11T12:55:43.199391Z"
    }
   },
   "outputs": [],
   "source": [
    "df['label'] = df['player_positions'].str.split(',').apply(lambda x: x[0])\n",
    "df = df[df['label'] != 'GK']"
   ]
  },
  {
   "cell_type": "code",
   "execution_count": 31,
   "metadata": {
    "ExecuteTime": {
     "end_time": "2020-10-11T12:55:44.785284Z",
     "start_time": "2020-10-11T12:55:43.253389Z"
    },
    "scrolled": false
   },
   "outputs": [
    {
     "data": {
      "text/plain": [
       "<matplotlib.axes._subplots.AxesSubplot at 0x2223fd476d0>"
      ]
     },
     "execution_count": 31,
     "metadata": {},
     "output_type": "execute_result"
    },
    {
     "data": {
      "image/png": "[encoded data removed]",
      "text/plain": [
       "<Figure size 432x288 with 1 Axes>"
      ]
     },
     "metadata": {
      "needs_background": "light"
     },
     "output_type": "display_data"
    }
   ],
   "source": [
    "sns.heatmap(df.isnull(), cbar=False)"
   ]
  },
  {
   "cell_type": "code",
   "execution_count": 32,
   "metadata": {
    "ExecuteTime": {
     "end_time": "2020-10-11T12:55:44.840281Z",
     "start_time": "2020-10-11T12:55:44.786246Z"
    }
   },
   "outputs": [
    {
     "name": "stdout",
     "output_type": "stream",
     "text": [
      "<class 'pandas.core.frame.DataFrame'>\n",
      "Int64Index: 16242 entries, 0 to 18277\n",
      "Data columns (total 91 columns):\n",
      " #   Column                      Non-Null Count  Dtype  \n",
      "---  ------                      --------------  -----  \n",
      " 0   sofifa_id                   16242 non-null  int64  \n",
      " 1   player_url                  16242 non-null  object \n",
      " 2   age                         16242 non-null  int64  \n",
      " 3   dob                         16242 non-null  object \n",
      " 4   height_cm                   16242 non-null  int64  \n",
      " 5   weight_kg                   16242 non-null  int64  \n",
      " 6   nationality                 16242 non-null  object \n",
      " 7   club                        16242 non-null  object \n",
      " 8   overall                     16242 non-null  int64  \n",
      " 9   potential                   16242 non-null  int64  \n",
      " 10  value_eur                   16242 non-null  int64  \n",
      " 11  wage_eur                    16242 non-null  int64  \n",
      " 12  player_positions            16242 non-null  object \n",
      " 13  preferred_foot              16242 non-null  object \n",
      " 14  international_reputation    16242 non-null  int64  \n",
      " 15  weak_foot                   16242 non-null  int64  \n",
      " 16  skill_moves                 16242 non-null  int64  \n",
      " 17  work_rate                   16242 non-null  object \n",
      " 18  body_type                   16242 non-null  object \n",
      " 19  real_face                   16242 non-null  object \n",
      " 20  release_clause_eur          15077 non-null  float64\n",
      " 21  player_tags                 1499 non-null   object \n",
      " 22  team_jersey_number          16042 non-null  float64\n",
      " 23  loaned_from                 955 non-null    object \n",
      " 24  joined                      15087 non-null  object \n",
      " 25  contract_valid_until        16042 non-null  float64\n",
      " 26  nation_position             979 non-null    object \n",
      " 27  nation_jersey_number        979 non-null    float64\n",
      " 28  pace                        16242 non-null  float64\n",
      " 29  shooting                    16242 non-null  float64\n",
      " 30  passing                     16242 non-null  float64\n",
      " 31  dribbling                   16242 non-null  float64\n",
      " 32  defending                   16242 non-null  float64\n",
      " 33  physic                      16242 non-null  float64\n",
      " 34  player_traits               6902 non-null   object \n",
      " 35  attacking_crossing          16242 non-null  int64  \n",
      " 36  attacking_finishing         16242 non-null  int64  \n",
      " 37  attacking_heading_accuracy  16242 non-null  int64  \n",
      " 38  attacking_short_passing     16242 non-null  int64  \n",
      " 39  attacking_volleys           16242 non-null  int64  \n",
      " 40  skill_dribbling             16242 non-null  int64  \n",
      " 41  skill_curve                 16242 non-null  int64  \n",
      " 42  skill_fk_accuracy           16242 non-null  int64  \n",
      " 43  skill_long_passing          16242 non-null  int64  \n",
      " 44  skill_ball_control          16242 non-null  int64  \n",
      " 45  movement_acceleration       16242 non-null  int64  \n",
      " 46  movement_sprint_speed       16242 non-null  int64  \n",
      " 47  movement_agility            16242 non-null  int64  \n",
      " 48  movement_reactions          16242 non-null  int64  \n",
      " 49  movement_balance            16242 non-null  int64  \n",
      " 50  power_shot_power            16242 non-null  int64  \n",
      " 51  power_jumping               16242 non-null  int64  \n",
      " 52  power_stamina               16242 non-null  int64  \n",
      " 53  power_strength              16242 non-null  int64  \n",
      " 54  power_long_shots            16242 non-null  int64  \n",
      " 55  mentality_aggression        16242 non-null  int64  \n",
      " 56  mentality_interceptions     16242 non-null  int64  \n",
      " 57  mentality_positioning       16242 non-null  int64  \n",
      " 58  mentality_vision            16242 non-null  int64  \n",
      " 59  mentality_penalties         16242 non-null  int64  \n",
      " 60  mentality_composure         16242 non-null  int64  \n",
      " 61  defending_marking           16242 non-null  int64  \n",
      " 62  defending_standing_tackle   16242 non-null  int64  \n",
      " 63  defending_sliding_tackle    16242 non-null  int64  \n",
      " 64  ls                          16242 non-null  object \n",
      " 65  st                          16242 non-null  object \n",
      " 66  rs                          16242 non-null  object \n",
      " 67  lw                          16242 non-null  object \n",
      " 68  lf                          16242 non-null  object \n",
      " 69  cf                          16242 non-null  object \n",
      " 70  rf                          16242 non-null  object \n",
      " 71  rw                          16242 non-null  object \n",
      " 72  lam                         16242 non-null  object \n",
      " 73  cam                         16242 non-null  object \n",
      " 74  ram                         16242 non-null  object \n",
      " 75  lm                          16242 non-null  object \n",
      " 76  lcm                         16242 non-null  object \n",
      " 77  cm                          16242 non-null  object \n",
      " 78  rcm                         16242 non-null  object \n",
      " 79  rm                          16242 non-null  object \n",
      " 80  lwb                         16242 non-null  object \n",
      " 81  ldm                         16242 non-null  object \n",
      " 82  cdm                         16242 non-null  object \n",
      " 83  rdm                         16242 non-null  object \n",
      " 84  rwb                         16242 non-null  object \n",
      " 85  lb                          16242 non-null  object \n",
      " 86  lcb                         16242 non-null  object \n",
      " 87  cb                          16242 non-null  object \n",
      " 88  rcb                         16242 non-null  object \n",
      " 89  rb                          16242 non-null  object \n",
      " 90  label                       16242 non-null  object \n",
      "dtypes: float64(10), int64(40), object(41)\n",
      "memory usage: 11.4+ MB\n"
     ]
    }
   ],
   "source": [
    "df.info()"
   ]
  },
  {
   "cell_type": "markdown",
   "metadata": {},
   "source": [
    "## 1.1 Remove Useless Features"
   ]
  },
  {
   "cell_type": "markdown",
   "metadata": {},
   "source": [
    "We may use our a-priori knowledge wo remove useless features:"
   ]
  },
  {
   "cell_type": "code",
   "execution_count": 33,
   "metadata": {
    "ExecuteTime": {
     "end_time": "2020-10-11T12:55:44.874242Z",
     "start_time": "2020-10-11T12:55:44.841244Z"
    },
    "scrolled": false
   },
   "outputs": [
    {
     "data": {
      "text/html": [
       "<div>\n",
       "<style scoped>\n",
       "    .dataframe tbody tr th:only-of-type {\n",
       "        vertical-align: middle;\n",
       "    }\n",
       "\n",
       "    .dataframe tbody tr th {\n",
       "        vertical-align: top;\n",
       "    }\n",
       "\n",
       "    .dataframe thead th {\n",
       "        text-align: right;\n",
       "    }\n",
       "</style>\n",
       "<table border=\"1\" class=\"dataframe\">\n",
       "  <thead>\n",
       "    <tr style=\"text-align: right;\">\n",
       "      <th></th>\n",
       "      <th>0</th>\n",
       "      <th>1</th>\n",
       "      <th>2</th>\n",
       "      <th>4</th>\n",
       "      <th>5</th>\n",
       "    </tr>\n",
       "  </thead>\n",
       "  <tbody>\n",
       "    <tr>\n",
       "      <th>sofifa_id</th>\n",
       "      <td>158023</td>\n",
       "      <td>20801</td>\n",
       "      <td>190871</td>\n",
       "      <td>183277</td>\n",
       "      <td>192985</td>\n",
       "    </tr>\n",
       "    <tr>\n",
       "      <th>player_url</th>\n",
       "      <td>https://sofifa.com/player/158023/lionel-messi/...</td>\n",
       "      <td>https://sofifa.com/player/20801/c-ronaldo-dos-...</td>\n",
       "      <td>https://sofifa.com/player/190871/neymar-da-sil...</td>\n",
       "      <td>https://sofifa.com/player/183277/eden-hazard/2...</td>\n",
       "      <td>https://sofifa.com/player/192985/kevin-de-bruy...</td>\n",
       "    </tr>\n",
       "    <tr>\n",
       "      <th>age</th>\n",
       "      <td>32</td>\n",
       "      <td>34</td>\n",
       "      <td>27</td>\n",
       "      <td>28</td>\n",
       "      <td>28</td>\n",
       "    </tr>\n",
       "    <tr>\n",
       "      <th>dob</th>\n",
       "      <td>1987-06-24</td>\n",
       "      <td>1985-02-05</td>\n",
       "      <td>1992-02-05</td>\n",
       "      <td>1991-01-07</td>\n",
       "      <td>1991-06-28</td>\n",
       "    </tr>\n",
       "    <tr>\n",
       "      <th>height_cm</th>\n",
       "      <td>170</td>\n",
       "      <td>187</td>\n",
       "      <td>175</td>\n",
       "      <td>175</td>\n",
       "      <td>181</td>\n",
       "    </tr>\n",
       "    <tr>\n",
       "      <th>weight_kg</th>\n",
       "      <td>72</td>\n",
       "      <td>83</td>\n",
       "      <td>68</td>\n",
       "      <td>74</td>\n",
       "      <td>70</td>\n",
       "    </tr>\n",
       "    <tr>\n",
       "      <th>nationality</th>\n",
       "      <td>Argentina</td>\n",
       "      <td>Portugal</td>\n",
       "      <td>Brazil</td>\n",
       "      <td>Belgium</td>\n",
       "      <td>Belgium</td>\n",
       "    </tr>\n",
       "    <tr>\n",
       "      <th>club</th>\n",
       "      <td>FC Barcelona</td>\n",
       "      <td>Juventus</td>\n",
       "      <td>Paris Saint-Germain</td>\n",
       "      <td>Real Madrid</td>\n",
       "      <td>Manchester City</td>\n",
       "    </tr>\n",
       "    <tr>\n",
       "      <th>overall</th>\n",
       "      <td>94</td>\n",
       "      <td>93</td>\n",
       "      <td>92</td>\n",
       "      <td>91</td>\n",
       "      <td>91</td>\n",
       "    </tr>\n",
       "    <tr>\n",
       "      <th>potential</th>\n",
       "      <td>94</td>\n",
       "      <td>93</td>\n",
       "      <td>92</td>\n",
       "      <td>91</td>\n",
       "      <td>91</td>\n",
       "    </tr>\n",
       "    <tr>\n",
       "      <th>value_eur</th>\n",
       "      <td>95500000</td>\n",
       "      <td>58500000</td>\n",
       "      <td>105500000</td>\n",
       "      <td>90000000</td>\n",
       "      <td>90000000</td>\n",
       "    </tr>\n",
       "    <tr>\n",
       "      <th>wage_eur</th>\n",
       "      <td>565000</td>\n",
       "      <td>405000</td>\n",
       "      <td>290000</td>\n",
       "      <td>470000</td>\n",
       "      <td>370000</td>\n",
       "    </tr>\n",
       "    <tr>\n",
       "      <th>player_positions</th>\n",
       "      <td>RW, CF, ST</td>\n",
       "      <td>ST, LW</td>\n",
       "      <td>LW, CAM</td>\n",
       "      <td>LW, CF</td>\n",
       "      <td>CAM, CM</td>\n",
       "    </tr>\n",
       "    <tr>\n",
       "      <th>preferred_foot</th>\n",
       "      <td>Left</td>\n",
       "      <td>Right</td>\n",
       "      <td>Right</td>\n",
       "      <td>Right</td>\n",
       "      <td>Right</td>\n",
       "    </tr>\n",
       "    <tr>\n",
       "      <th>international_reputation</th>\n",
       "      <td>5</td>\n",
       "      <td>5</td>\n",
       "      <td>5</td>\n",
       "      <td>4</td>\n",
       "      <td>4</td>\n",
       "    </tr>\n",
       "    <tr>\n",
       "      <th>weak_foot</th>\n",
       "      <td>4</td>\n",
       "      <td>4</td>\n",
       "      <td>5</td>\n",
       "      <td>4</td>\n",
       "      <td>5</td>\n",
       "    </tr>\n",
       "    <tr>\n",
       "      <th>skill_moves</th>\n",
       "      <td>4</td>\n",
       "      <td>5</td>\n",
       "      <td>5</td>\n",
       "      <td>4</td>\n",
       "      <td>4</td>\n",
       "    </tr>\n",
       "    <tr>\n",
       "      <th>work_rate</th>\n",
       "      <td>Medium/Low</td>\n",
       "      <td>High/Low</td>\n",
       "      <td>High/Medium</td>\n",
       "      <td>High/Medium</td>\n",
       "      <td>High/High</td>\n",
       "    </tr>\n",
       "    <tr>\n",
       "      <th>body_type</th>\n",
       "      <td>Messi</td>\n",
       "      <td>C. Ronaldo</td>\n",
       "      <td>Neymar</td>\n",
       "      <td>Normal</td>\n",
       "      <td>Normal</td>\n",
       "    </tr>\n",
       "    <tr>\n",
       "      <th>real_face</th>\n",
       "      <td>Yes</td>\n",
       "      <td>Yes</td>\n",
       "      <td>Yes</td>\n",
       "      <td>Yes</td>\n",
       "      <td>Yes</td>\n",
       "    </tr>\n",
       "    <tr>\n",
       "      <th>release_clause_eur</th>\n",
       "      <td>1.958e+08</td>\n",
       "      <td>9.65e+07</td>\n",
       "      <td>1.952e+08</td>\n",
       "      <td>1.845e+08</td>\n",
       "      <td>1.665e+08</td>\n",
       "    </tr>\n",
       "    <tr>\n",
       "      <th>player_tags</th>\n",
       "      <td>#Dribbler, #Distance Shooter, #Crosser, #FK Sp...</td>\n",
       "      <td>#Speedster, #Dribbler, #Distance Shooter, #Acr...</td>\n",
       "      <td>#Speedster, #Dribbler, #Playmaker  , #Crosser,...</td>\n",
       "      <td>#Speedster, #Dribbler, #Acrobat</td>\n",
       "      <td>#Dribbler, #Playmaker  , #Engine, #Distance Sh...</td>\n",
       "    </tr>\n",
       "    <tr>\n",
       "      <th>team_jersey_number</th>\n",
       "      <td>10</td>\n",
       "      <td>7</td>\n",
       "      <td>10</td>\n",
       "      <td>7</td>\n",
       "      <td>17</td>\n",
       "    </tr>\n",
       "    <tr>\n",
       "      <th>loaned_from</th>\n",
       "      <td>NaN</td>\n",
       "      <td>NaN</td>\n",
       "      <td>NaN</td>\n",
       "      <td>NaN</td>\n",
       "      <td>NaN</td>\n",
       "    </tr>\n",
       "    <tr>\n",
       "      <th>joined</th>\n",
       "      <td>2004-07-01</td>\n",
       "      <td>2018-07-10</td>\n",
       "      <td>2017-08-03</td>\n",
       "      <td>2019-07-01</td>\n",
       "      <td>2015-08-30</td>\n",
       "    </tr>\n",
       "    <tr>\n",
       "      <th>contract_valid_until</th>\n",
       "      <td>2021</td>\n",
       "      <td>2022</td>\n",
       "      <td>2022</td>\n",
       "      <td>2024</td>\n",
       "      <td>2023</td>\n",
       "    </tr>\n",
       "    <tr>\n",
       "      <th>nation_position</th>\n",
       "      <td>NaN</td>\n",
       "      <td>LS</td>\n",
       "      <td>LW</td>\n",
       "      <td>LF</td>\n",
       "      <td>RCM</td>\n",
       "    </tr>\n",
       "    <tr>\n",
       "      <th>nation_jersey_number</th>\n",
       "      <td>NaN</td>\n",
       "      <td>7</td>\n",
       "      <td>10</td>\n",
       "      <td>10</td>\n",
       "      <td>7</td>\n",
       "    </tr>\n",
       "    <tr>\n",
       "      <th>pace</th>\n",
       "      <td>87</td>\n",
       "      <td>90</td>\n",
       "      <td>91</td>\n",
       "      <td>91</td>\n",
       "      <td>76</td>\n",
       "    </tr>\n",
       "    <tr>\n",
       "      <th>shooting</th>\n",
       "      <td>92</td>\n",
       "      <td>93</td>\n",
       "      <td>85</td>\n",
       "      <td>83</td>\n",
       "      <td>86</td>\n",
       "    </tr>\n",
       "    <tr>\n",
       "      <th>passing</th>\n",
       "      <td>92</td>\n",
       "      <td>82</td>\n",
       "      <td>87</td>\n",
       "      <td>86</td>\n",
       "      <td>92</td>\n",
       "    </tr>\n",
       "    <tr>\n",
       "      <th>dribbling</th>\n",
       "      <td>96</td>\n",
       "      <td>89</td>\n",
       "      <td>95</td>\n",
       "      <td>94</td>\n",
       "      <td>86</td>\n",
       "    </tr>\n",
       "    <tr>\n",
       "      <th>defending</th>\n",
       "      <td>39</td>\n",
       "      <td>35</td>\n",
       "      <td>32</td>\n",
       "      <td>35</td>\n",
       "      <td>61</td>\n",
       "    </tr>\n",
       "    <tr>\n",
       "      <th>physic</th>\n",
       "      <td>66</td>\n",
       "      <td>78</td>\n",
       "      <td>58</td>\n",
       "      <td>66</td>\n",
       "      <td>78</td>\n",
       "    </tr>\n",
       "    <tr>\n",
       "      <th>player_traits</th>\n",
       "      <td>Beat Offside Trap, Argues with Officials, Earl...</td>\n",
       "      <td>Long Throw-in, Selfish, Argues with Officials,...</td>\n",
       "      <td>Power Free-Kick, Injury Free, Selfish, Early C...</td>\n",
       "      <td>Beat Offside Trap, Selfish, Finesse Shot, Spee...</td>\n",
       "      <td>Power Free-Kick, Avoids Using Weaker Foot, Div...</td>\n",
       "    </tr>\n",
       "    <tr>\n",
       "      <th>attacking_crossing</th>\n",
       "      <td>88</td>\n",
       "      <td>84</td>\n",
       "      <td>87</td>\n",
       "      <td>81</td>\n",
       "      <td>93</td>\n",
       "    </tr>\n",
       "    <tr>\n",
       "      <th>attacking_finishing</th>\n",
       "      <td>95</td>\n",
       "      <td>94</td>\n",
       "      <td>87</td>\n",
       "      <td>84</td>\n",
       "      <td>82</td>\n",
       "    </tr>\n",
       "    <tr>\n",
       "      <th>attacking_heading_accuracy</th>\n",
       "      <td>70</td>\n",
       "      <td>89</td>\n",
       "      <td>62</td>\n",
       "      <td>61</td>\n",
       "      <td>55</td>\n",
       "    </tr>\n",
       "    <tr>\n",
       "      <th>attacking_short_passing</th>\n",
       "      <td>92</td>\n",
       "      <td>83</td>\n",
       "      <td>87</td>\n",
       "      <td>89</td>\n",
       "      <td>92</td>\n",
       "    </tr>\n",
       "    <tr>\n",
       "      <th>attacking_volleys</th>\n",
       "      <td>88</td>\n",
       "      <td>87</td>\n",
       "      <td>87</td>\n",
       "      <td>83</td>\n",
       "      <td>82</td>\n",
       "    </tr>\n",
       "    <tr>\n",
       "      <th>skill_dribbling</th>\n",
       "      <td>97</td>\n",
       "      <td>89</td>\n",
       "      <td>96</td>\n",
       "      <td>95</td>\n",
       "      <td>86</td>\n",
       "    </tr>\n",
       "    <tr>\n",
       "      <th>skill_curve</th>\n",
       "      <td>93</td>\n",
       "      <td>81</td>\n",
       "      <td>88</td>\n",
       "      <td>83</td>\n",
       "      <td>85</td>\n",
       "    </tr>\n",
       "    <tr>\n",
       "      <th>skill_fk_accuracy</th>\n",
       "      <td>94</td>\n",
       "      <td>76</td>\n",
       "      <td>87</td>\n",
       "      <td>79</td>\n",
       "      <td>83</td>\n",
       "    </tr>\n",
       "    <tr>\n",
       "      <th>skill_long_passing</th>\n",
       "      <td>92</td>\n",
       "      <td>77</td>\n",
       "      <td>81</td>\n",
       "      <td>83</td>\n",
       "      <td>91</td>\n",
       "    </tr>\n",
       "    <tr>\n",
       "      <th>skill_ball_control</th>\n",
       "      <td>96</td>\n",
       "      <td>92</td>\n",
       "      <td>95</td>\n",
       "      <td>94</td>\n",
       "      <td>91</td>\n",
       "    </tr>\n",
       "    <tr>\n",
       "      <th>movement_acceleration</th>\n",
       "      <td>91</td>\n",
       "      <td>89</td>\n",
       "      <td>94</td>\n",
       "      <td>94</td>\n",
       "      <td>77</td>\n",
       "    </tr>\n",
       "    <tr>\n",
       "      <th>movement_sprint_speed</th>\n",
       "      <td>84</td>\n",
       "      <td>91</td>\n",
       "      <td>89</td>\n",
       "      <td>88</td>\n",
       "      <td>76</td>\n",
       "    </tr>\n",
       "    <tr>\n",
       "      <th>movement_agility</th>\n",
       "      <td>93</td>\n",
       "      <td>87</td>\n",
       "      <td>96</td>\n",
       "      <td>95</td>\n",
       "      <td>78</td>\n",
       "    </tr>\n",
       "    <tr>\n",
       "      <th>movement_reactions</th>\n",
       "      <td>95</td>\n",
       "      <td>96</td>\n",
       "      <td>92</td>\n",
       "      <td>90</td>\n",
       "      <td>91</td>\n",
       "    </tr>\n",
       "    <tr>\n",
       "      <th>movement_balance</th>\n",
       "      <td>95</td>\n",
       "      <td>71</td>\n",
       "      <td>84</td>\n",
       "      <td>94</td>\n",
       "      <td>76</td>\n",
       "    </tr>\n",
       "    <tr>\n",
       "      <th>power_shot_power</th>\n",
       "      <td>86</td>\n",
       "      <td>95</td>\n",
       "      <td>80</td>\n",
       "      <td>82</td>\n",
       "      <td>91</td>\n",
       "    </tr>\n",
       "    <tr>\n",
       "      <th>power_jumping</th>\n",
       "      <td>68</td>\n",
       "      <td>95</td>\n",
       "      <td>61</td>\n",
       "      <td>56</td>\n",
       "      <td>63</td>\n",
       "    </tr>\n",
       "    <tr>\n",
       "      <th>power_stamina</th>\n",
       "      <td>75</td>\n",
       "      <td>85</td>\n",
       "      <td>81</td>\n",
       "      <td>84</td>\n",
       "      <td>89</td>\n",
       "    </tr>\n",
       "    <tr>\n",
       "      <th>power_strength</th>\n",
       "      <td>68</td>\n",
       "      <td>78</td>\n",
       "      <td>49</td>\n",
       "      <td>63</td>\n",
       "      <td>74</td>\n",
       "    </tr>\n",
       "    <tr>\n",
       "      <th>power_long_shots</th>\n",
       "      <td>94</td>\n",
       "      <td>93</td>\n",
       "      <td>84</td>\n",
       "      <td>80</td>\n",
       "      <td>90</td>\n",
       "    </tr>\n",
       "    <tr>\n",
       "      <th>mentality_aggression</th>\n",
       "      <td>48</td>\n",
       "      <td>63</td>\n",
       "      <td>51</td>\n",
       "      <td>54</td>\n",
       "      <td>76</td>\n",
       "    </tr>\n",
       "    <tr>\n",
       "      <th>mentality_interceptions</th>\n",
       "      <td>40</td>\n",
       "      <td>29</td>\n",
       "      <td>36</td>\n",
       "      <td>41</td>\n",
       "      <td>61</td>\n",
       "    </tr>\n",
       "    <tr>\n",
       "      <th>mentality_positioning</th>\n",
       "      <td>94</td>\n",
       "      <td>95</td>\n",
       "      <td>87</td>\n",
       "      <td>87</td>\n",
       "      <td>88</td>\n",
       "    </tr>\n",
       "    <tr>\n",
       "      <th>mentality_vision</th>\n",
       "      <td>94</td>\n",
       "      <td>82</td>\n",
       "      <td>90</td>\n",
       "      <td>89</td>\n",
       "      <td>94</td>\n",
       "    </tr>\n",
       "    <tr>\n",
       "      <th>mentality_penalties</th>\n",
       "      <td>75</td>\n",
       "      <td>85</td>\n",
       "      <td>90</td>\n",
       "      <td>88</td>\n",
       "      <td>79</td>\n",
       "    </tr>\n",
       "    <tr>\n",
       "      <th>mentality_composure</th>\n",
       "      <td>96</td>\n",
       "      <td>95</td>\n",
       "      <td>94</td>\n",
       "      <td>91</td>\n",
       "      <td>91</td>\n",
       "    </tr>\n",
       "    <tr>\n",
       "      <th>defending_marking</th>\n",
       "      <td>33</td>\n",
       "      <td>28</td>\n",
       "      <td>27</td>\n",
       "      <td>34</td>\n",
       "      <td>68</td>\n",
       "    </tr>\n",
       "    <tr>\n",
       "      <th>defending_standing_tackle</th>\n",
       "      <td>37</td>\n",
       "      <td>32</td>\n",
       "      <td>26</td>\n",
       "      <td>27</td>\n",
       "      <td>58</td>\n",
       "    </tr>\n",
       "    <tr>\n",
       "      <th>defending_sliding_tackle</th>\n",
       "      <td>26</td>\n",
       "      <td>24</td>\n",
       "      <td>29</td>\n",
       "      <td>22</td>\n",
       "      <td>51</td>\n",
       "    </tr>\n",
       "    <tr>\n",
       "      <th>ls</th>\n",
       "      <td>89+2</td>\n",
       "      <td>91+3</td>\n",
       "      <td>84+3</td>\n",
       "      <td>83+3</td>\n",
       "      <td>82+3</td>\n",
       "    </tr>\n",
       "    <tr>\n",
       "      <th>st</th>\n",
       "      <td>89+2</td>\n",
       "      <td>91+3</td>\n",
       "      <td>84+3</td>\n",
       "      <td>83+3</td>\n",
       "      <td>82+3</td>\n",
       "    </tr>\n",
       "    <tr>\n",
       "      <th>rs</th>\n",
       "      <td>89+2</td>\n",
       "      <td>91+3</td>\n",
       "      <td>84+3</td>\n",
       "      <td>83+3</td>\n",
       "      <td>82+3</td>\n",
       "    </tr>\n",
       "    <tr>\n",
       "      <th>lw</th>\n",
       "      <td>93+2</td>\n",
       "      <td>89+3</td>\n",
       "      <td>90+3</td>\n",
       "      <td>89+3</td>\n",
       "      <td>87+3</td>\n",
       "    </tr>\n",
       "    <tr>\n",
       "      <th>lf</th>\n",
       "      <td>93+2</td>\n",
       "      <td>90+3</td>\n",
       "      <td>89+3</td>\n",
       "      <td>88+3</td>\n",
       "      <td>87+3</td>\n",
       "    </tr>\n",
       "    <tr>\n",
       "      <th>cf</th>\n",
       "      <td>93+2</td>\n",
       "      <td>90+3</td>\n",
       "      <td>89+3</td>\n",
       "      <td>88+3</td>\n",
       "      <td>87+3</td>\n",
       "    </tr>\n",
       "    <tr>\n",
       "      <th>rf</th>\n",
       "      <td>93+2</td>\n",
       "      <td>90+3</td>\n",
       "      <td>89+3</td>\n",
       "      <td>88+3</td>\n",
       "      <td>87+3</td>\n",
       "    </tr>\n",
       "    <tr>\n",
       "      <th>rw</th>\n",
       "      <td>93+2</td>\n",
       "      <td>89+3</td>\n",
       "      <td>90+3</td>\n",
       "      <td>89+3</td>\n",
       "      <td>87+3</td>\n",
       "    </tr>\n",
       "    <tr>\n",
       "      <th>lam</th>\n",
       "      <td>93+2</td>\n",
       "      <td>88+3</td>\n",
       "      <td>90+3</td>\n",
       "      <td>89+3</td>\n",
       "      <td>88+3</td>\n",
       "    </tr>\n",
       "    <tr>\n",
       "      <th>cam</th>\n",
       "      <td>93+2</td>\n",
       "      <td>88+3</td>\n",
       "      <td>90+3</td>\n",
       "      <td>89+3</td>\n",
       "      <td>88+3</td>\n",
       "    </tr>\n",
       "    <tr>\n",
       "      <th>ram</th>\n",
       "      <td>93+2</td>\n",
       "      <td>88+3</td>\n",
       "      <td>90+3</td>\n",
       "      <td>89+3</td>\n",
       "      <td>88+3</td>\n",
       "    </tr>\n",
       "    <tr>\n",
       "      <th>lm</th>\n",
       "      <td>92+2</td>\n",
       "      <td>88+3</td>\n",
       "      <td>89+3</td>\n",
       "      <td>89+3</td>\n",
       "      <td>88+3</td>\n",
       "    </tr>\n",
       "    <tr>\n",
       "      <th>lcm</th>\n",
       "      <td>87+2</td>\n",
       "      <td>81+3</td>\n",
       "      <td>82+3</td>\n",
       "      <td>83+3</td>\n",
       "      <td>87+3</td>\n",
       "    </tr>\n",
       "    <tr>\n",
       "      <th>cm</th>\n",
       "      <td>87+2</td>\n",
       "      <td>81+3</td>\n",
       "      <td>82+3</td>\n",
       "      <td>83+3</td>\n",
       "      <td>87+3</td>\n",
       "    </tr>\n",
       "    <tr>\n",
       "      <th>rcm</th>\n",
       "      <td>87+2</td>\n",
       "      <td>81+3</td>\n",
       "      <td>82+3</td>\n",
       "      <td>83+3</td>\n",
       "      <td>87+3</td>\n",
       "    </tr>\n",
       "    <tr>\n",
       "      <th>rm</th>\n",
       "      <td>92+2</td>\n",
       "      <td>88+3</td>\n",
       "      <td>89+3</td>\n",
       "      <td>89+3</td>\n",
       "      <td>88+3</td>\n",
       "    </tr>\n",
       "    <tr>\n",
       "      <th>lwb</th>\n",
       "      <td>68+2</td>\n",
       "      <td>65+3</td>\n",
       "      <td>66+3</td>\n",
       "      <td>66+3</td>\n",
       "      <td>77+3</td>\n",
       "    </tr>\n",
       "    <tr>\n",
       "      <th>ldm</th>\n",
       "      <td>66+2</td>\n",
       "      <td>61+3</td>\n",
       "      <td>61+3</td>\n",
       "      <td>63+3</td>\n",
       "      <td>77+3</td>\n",
       "    </tr>\n",
       "    <tr>\n",
       "      <th>cdm</th>\n",
       "      <td>66+2</td>\n",
       "      <td>61+3</td>\n",
       "      <td>61+3</td>\n",
       "      <td>63+3</td>\n",
       "      <td>77+3</td>\n",
       "    </tr>\n",
       "    <tr>\n",
       "      <th>rdm</th>\n",
       "      <td>66+2</td>\n",
       "      <td>61+3</td>\n",
       "      <td>61+3</td>\n",
       "      <td>63+3</td>\n",
       "      <td>77+3</td>\n",
       "    </tr>\n",
       "    <tr>\n",
       "      <th>rwb</th>\n",
       "      <td>68+2</td>\n",
       "      <td>65+3</td>\n",
       "      <td>66+3</td>\n",
       "      <td>66+3</td>\n",
       "      <td>77+3</td>\n",
       "    </tr>\n",
       "    <tr>\n",
       "      <th>lb</th>\n",
       "      <td>63+2</td>\n",
       "      <td>61+3</td>\n",
       "      <td>61+3</td>\n",
       "      <td>61+3</td>\n",
       "      <td>73+3</td>\n",
       "    </tr>\n",
       "    <tr>\n",
       "      <th>lcb</th>\n",
       "      <td>52+2</td>\n",
       "      <td>53+3</td>\n",
       "      <td>46+3</td>\n",
       "      <td>49+3</td>\n",
       "      <td>66+3</td>\n",
       "    </tr>\n",
       "    <tr>\n",
       "      <th>cb</th>\n",
       "      <td>52+2</td>\n",
       "      <td>53+3</td>\n",
       "      <td>46+3</td>\n",
       "      <td>49+3</td>\n",
       "      <td>66+3</td>\n",
       "    </tr>\n",
       "    <tr>\n",
       "      <th>rcb</th>\n",
       "      <td>52+2</td>\n",
       "      <td>53+3</td>\n",
       "      <td>46+3</td>\n",
       "      <td>49+3</td>\n",
       "      <td>66+3</td>\n",
       "    </tr>\n",
       "    <tr>\n",
       "      <th>rb</th>\n",
       "      <td>63+2</td>\n",
       "      <td>61+3</td>\n",
       "      <td>61+3</td>\n",
       "      <td>61+3</td>\n",
       "      <td>73+3</td>\n",
       "    </tr>\n",
       "    <tr>\n",
       "      <th>label</th>\n",
       "      <td>RW</td>\n",
       "      <td>ST</td>\n",
       "      <td>LW</td>\n",
       "      <td>LW</td>\n",
       "      <td>CAM</td>\n",
       "    </tr>\n",
       "  </tbody>\n",
       "</table>\n",
       "</div>"
      ],
      "text/plain": [
       "                                                                            0  \\\n",
       "sofifa_id                                                              158023   \n",
       "player_url                  https://sofifa.com/player/158023/lionel-messi/...   \n",
       "age                                                                        32   \n",
       "dob                                                                1987-06-24   \n",
       "height_cm                                                                 170   \n",
       "weight_kg                                                                  72   \n",
       "nationality                                                         Argentina   \n",
       "club                                                             FC Barcelona   \n",
       "overall                                                                    94   \n",
       "potential                                                                  94   \n",
       "value_eur                                                            95500000   \n",
       "wage_eur                                                               565000   \n",
       "player_positions                                                   RW, CF, ST   \n",
       "preferred_foot                                                           Left   \n",
       "international_reputation                                                    5   \n",
       "weak_foot                                                                   4   \n",
       "skill_moves                                                                 4   \n",
       "work_rate                                                          Medium/Low   \n",
       "body_type                                                               Messi   \n",
       "real_face                                                                 Yes   \n",
       "release_clause_eur                                                  1.958e+08   \n",
       "player_tags                 #Dribbler, #Distance Shooter, #Crosser, #FK Sp...   \n",
       "team_jersey_number                                                         10   \n",
       "loaned_from                                                               NaN   \n",
       "joined                                                             2004-07-01   \n",
       "contract_valid_until                                                     2021   \n",
       "nation_position                                                           NaN   \n",
       "nation_jersey_number                                                      NaN   \n",
       "pace                                                                       87   \n",
       "shooting                                                                   92   \n",
       "passing                                                                    92   \n",
       "dribbling                                                                  96   \n",
       "defending                                                                  39   \n",
       "physic                                                                     66   \n",
       "player_traits               Beat Offside Trap, Argues with Officials, Earl...   \n",
       "attacking_crossing                                                         88   \n",
       "attacking_finishing                                                        95   \n",
       "attacking_heading_accuracy                                                 70   \n",
       "attacking_short_passing                                                    92   \n",
       "attacking_volleys                                                          88   \n",
       "skill_dribbling                                                            97   \n",
       "skill_curve                                                                93   \n",
       "skill_fk_accuracy                                                          94   \n",
       "skill_long_passing                                                         92   \n",
       "skill_ball_control                                                         96   \n",
       "movement_acceleration                                                      91   \n",
       "movement_sprint_speed                                                      84   \n",
       "movement_agility                                                           93   \n",
       "movement_reactions                                                         95   \n",
       "movement_balance                                                           95   \n",
       "power_shot_power                                                           86   \n",
       "power_jumping                                                              68   \n",
       "power_stamina                                                              75   \n",
       "power_strength                                                             68   \n",
       "power_long_shots                                                           94   \n",
       "mentality_aggression                                                       48   \n",
       "mentality_interceptions                                                    40   \n",
       "mentality_positioning                                                      94   \n",
       "mentality_vision                                                           94   \n",
       "mentality_penalties                                                        75   \n",
       "mentality_composure                                                        96   \n",
       "defending_marking                                                          33   \n",
       "defending_standing_tackle                                                  37   \n",
       "defending_sliding_tackle                                                   26   \n",
       "ls                                                                       89+2   \n",
       "st                                                                       89+2   \n",
       "rs                                                                       89+2   \n",
       "lw                                                                       93+2   \n",
       "lf                                                                       93+2   \n",
       "cf                                                                       93+2   \n",
       "rf                                                                       93+2   \n",
       "rw                                                                       93+2   \n",
       "lam                                                                      93+2   \n",
       "cam                                                                      93+2   \n",
       "ram                                                                      93+2   \n",
       "lm                                                                       92+2   \n",
       "lcm                                                                      87+2   \n",
       "cm                                                                       87+2   \n",
       "rcm                                                                      87+2   \n",
       "rm                                                                       92+2   \n",
       "lwb                                                                      68+2   \n",
       "ldm                                                                      66+2   \n",
       "cdm                                                                      66+2   \n",
       "rdm                                                                      66+2   \n",
       "rwb                                                                      68+2   \n",
       "lb                                                                       63+2   \n",
       "lcb                                                                      52+2   \n",
       "cb                                                                       52+2   \n",
       "rcb                                                                      52+2   \n",
       "rb                                                                       63+2   \n",
       "label                                                                      RW   \n",
       "\n",
       "                                                                            1  \\\n",
       "sofifa_id                                                               20801   \n",
       "player_url                  https://sofifa.com/player/20801/c-ronaldo-dos-...   \n",
       "age                                                                        34   \n",
       "dob                                                                1985-02-05   \n",
       "height_cm                                                                 187   \n",
       "weight_kg                                                                  83   \n",
       "nationality                                                          Portugal   \n",
       "club                                                                 Juventus   \n",
       "overall                                                                    93   \n",
       "potential                                                                  93   \n",
       "value_eur                                                            58500000   \n",
       "wage_eur                                                               405000   \n",
       "player_positions                                                       ST, LW   \n",
       "preferred_foot                                                          Right   \n",
       "international_reputation                                                    5   \n",
       "weak_foot                                                                   4   \n",
       "skill_moves                                                                 5   \n",
       "work_rate                                                            High/Low   \n",
       "body_type                                                          C. Ronaldo   \n",
       "real_face                                                                 Yes   \n",
       "release_clause_eur                                                   9.65e+07   \n",
       "player_tags                 #Speedster, #Dribbler, #Distance Shooter, #Acr...   \n",
       "team_jersey_number                                                          7   \n",
       "loaned_from                                                               NaN   \n",
       "joined                                                             2018-07-10   \n",
       "contract_valid_until                                                     2022   \n",
       "nation_position                                                            LS   \n",
       "nation_jersey_number                                                        7   \n",
       "pace                                                                       90   \n",
       "shooting                                                                   93   \n",
       "passing                                                                    82   \n",
       "dribbling                                                                  89   \n",
       "defending                                                                  35   \n",
       "physic                                                                     78   \n",
       "player_traits               Long Throw-in, Selfish, Argues with Officials,...   \n",
       "attacking_crossing                                                         84   \n",
       "attacking_finishing                                                        94   \n",
       "attacking_heading_accuracy                                                 89   \n",
       "attacking_short_passing                                                    83   \n",
       "attacking_volleys                                                          87   \n",
       "skill_dribbling                                                            89   \n",
       "skill_curve                                                                81   \n",
       "skill_fk_accuracy                                                          76   \n",
       "skill_long_passing                                                         77   \n",
       "skill_ball_control                                                         92   \n",
       "movement_acceleration                                                      89   \n",
       "movement_sprint_speed                                                      91   \n",
       "movement_agility                                                           87   \n",
       "movement_reactions                                                         96   \n",
       "movement_balance                                                           71   \n",
       "power_shot_power                                                           95   \n",
       "power_jumping                                                              95   \n",
       "power_stamina                                                              85   \n",
       "power_strength                                                             78   \n",
       "power_long_shots                                                           93   \n",
       "mentality_aggression                                                       63   \n",
       "mentality_interceptions                                                    29   \n",
       "mentality_positioning                                                      95   \n",
       "mentality_vision                                                           82   \n",
       "mentality_penalties                                                        85   \n",
       "mentality_composure                                                        95   \n",
       "defending_marking                                                          28   \n",
       "defending_standing_tackle                                                  32   \n",
       "defending_sliding_tackle                                                   24   \n",
       "ls                                                                       91+3   \n",
       "st                                                                       91+3   \n",
       "rs                                                                       91+3   \n",
       "lw                                                                       89+3   \n",
       "lf                                                                       90+3   \n",
       "cf                                                                       90+3   \n",
       "rf                                                                       90+3   \n",
       "rw                                                                       89+3   \n",
       "lam                                                                      88+3   \n",
       "cam                                                                      88+3   \n",
       "ram                                                                      88+3   \n",
       "lm                                                                       88+3   \n",
       "lcm                                                                      81+3   \n",
       "cm                                                                       81+3   \n",
       "rcm                                                                      81+3   \n",
       "rm                                                                       88+3   \n",
       "lwb                                                                      65+3   \n",
       "ldm                                                                      61+3   \n",
       "cdm                                                                      61+3   \n",
       "rdm                                                                      61+3   \n",
       "rwb                                                                      65+3   \n",
       "lb                                                                       61+3   \n",
       "lcb                                                                      53+3   \n",
       "cb                                                                       53+3   \n",
       "rcb                                                                      53+3   \n",
       "rb                                                                       61+3   \n",
       "label                                                                      ST   \n",
       "\n",
       "                                                                            2  \\\n",
       "sofifa_id                                                              190871   \n",
       "player_url                  https://sofifa.com/player/190871/neymar-da-sil...   \n",
       "age                                                                        27   \n",
       "dob                                                                1992-02-05   \n",
       "height_cm                                                                 175   \n",
       "weight_kg                                                                  68   \n",
       "nationality                                                            Brazil   \n",
       "club                                                      Paris Saint-Germain   \n",
       "overall                                                                    92   \n",
       "potential                                                                  92   \n",
       "value_eur                                                           105500000   \n",
       "wage_eur                                                               290000   \n",
       "player_positions                                                      LW, CAM   \n",
       "preferred_foot                                                          Right   \n",
       "international_reputation                                                    5   \n",
       "weak_foot                                                                   5   \n",
       "skill_moves                                                                 5   \n",
       "work_rate                                                         High/Medium   \n",
       "body_type                                                              Neymar   \n",
       "real_face                                                                 Yes   \n",
       "release_clause_eur                                                  1.952e+08   \n",
       "player_tags                 #Speedster, #Dribbler, #Playmaker  , #Crosser,...   \n",
       "team_jersey_number                                                         10   \n",
       "loaned_from                                                               NaN   \n",
       "joined                                                             2017-08-03   \n",
       "contract_valid_until                                                     2022   \n",
       "nation_position                                                            LW   \n",
       "nation_jersey_number                                                       10   \n",
       "pace                                                                       91   \n",
       "shooting                                                                   85   \n",
       "passing                                                                    87   \n",
       "dribbling                                                                  95   \n",
       "defending                                                                  32   \n",
       "physic                                                                     58   \n",
       "player_traits               Power Free-Kick, Injury Free, Selfish, Early C...   \n",
       "attacking_crossing                                                         87   \n",
       "attacking_finishing                                                        87   \n",
       "attacking_heading_accuracy                                                 62   \n",
       "attacking_short_passing                                                    87   \n",
       "attacking_volleys                                                          87   \n",
       "skill_dribbling                                                            96   \n",
       "skill_curve                                                                88   \n",
       "skill_fk_accuracy                                                          87   \n",
       "skill_long_passing                                                         81   \n",
       "skill_ball_control                                                         95   \n",
       "movement_acceleration                                                      94   \n",
       "movement_sprint_speed                                                      89   \n",
       "movement_agility                                                           96   \n",
       "movement_reactions                                                         92   \n",
       "movement_balance                                                           84   \n",
       "power_shot_power                                                           80   \n",
       "power_jumping                                                              61   \n",
       "power_stamina                                                              81   \n",
       "power_strength                                                             49   \n",
       "power_long_shots                                                           84   \n",
       "mentality_aggression                                                       51   \n",
       "mentality_interceptions                                                    36   \n",
       "mentality_positioning                                                      87   \n",
       "mentality_vision                                                           90   \n",
       "mentality_penalties                                                        90   \n",
       "mentality_composure                                                        94   \n",
       "defending_marking                                                          27   \n",
       "defending_standing_tackle                                                  26   \n",
       "defending_sliding_tackle                                                   29   \n",
       "ls                                                                       84+3   \n",
       "st                                                                       84+3   \n",
       "rs                                                                       84+3   \n",
       "lw                                                                       90+3   \n",
       "lf                                                                       89+3   \n",
       "cf                                                                       89+3   \n",
       "rf                                                                       89+3   \n",
       "rw                                                                       90+3   \n",
       "lam                                                                      90+3   \n",
       "cam                                                                      90+3   \n",
       "ram                                                                      90+3   \n",
       "lm                                                                       89+3   \n",
       "lcm                                                                      82+3   \n",
       "cm                                                                       82+3   \n",
       "rcm                                                                      82+3   \n",
       "rm                                                                       89+3   \n",
       "lwb                                                                      66+3   \n",
       "ldm                                                                      61+3   \n",
       "cdm                                                                      61+3   \n",
       "rdm                                                                      61+3   \n",
       "rwb                                                                      66+3   \n",
       "lb                                                                       61+3   \n",
       "lcb                                                                      46+3   \n",
       "cb                                                                       46+3   \n",
       "rcb                                                                      46+3   \n",
       "rb                                                                       61+3   \n",
       "label                                                                      LW   \n",
       "\n",
       "                                                                            4  \\\n",
       "sofifa_id                                                              183277   \n",
       "player_url                  https://sofifa.com/player/183277/eden-hazard/2...   \n",
       "age                                                                        28   \n",
       "dob                                                                1991-01-07   \n",
       "height_cm                                                                 175   \n",
       "weight_kg                                                                  74   \n",
       "nationality                                                           Belgium   \n",
       "club                                                              Real Madrid   \n",
       "overall                                                                    91   \n",
       "potential                                                                  91   \n",
       "value_eur                                                            90000000   \n",
       "wage_eur                                                               470000   \n",
       "player_positions                                                       LW, CF   \n",
       "preferred_foot                                                          Right   \n",
       "international_reputation                                                    4   \n",
       "weak_foot                                                                   4   \n",
       "skill_moves                                                                 4   \n",
       "work_rate                                                         High/Medium   \n",
       "body_type                                                              Normal   \n",
       "real_face                                                                 Yes   \n",
       "release_clause_eur                                                  1.845e+08   \n",
       "player_tags                                   #Speedster, #Dribbler, #Acrobat   \n",
       "team_jersey_number                                                          7   \n",
       "loaned_from                                                               NaN   \n",
       "joined                                                             2019-07-01   \n",
       "contract_valid_until                                                     2024   \n",
       "nation_position                                                            LF   \n",
       "nation_jersey_number                                                       10   \n",
       "pace                                                                       91   \n",
       "shooting                                                                   83   \n",
       "passing                                                                    86   \n",
       "dribbling                                                                  94   \n",
       "defending                                                                  35   \n",
       "physic                                                                     66   \n",
       "player_traits               Beat Offside Trap, Selfish, Finesse Shot, Spee...   \n",
       "attacking_crossing                                                         81   \n",
       "attacking_finishing                                                        84   \n",
       "attacking_heading_accuracy                                                 61   \n",
       "attacking_short_passing                                                    89   \n",
       "attacking_volleys                                                          83   \n",
       "skill_dribbling                                                            95   \n",
       "skill_curve                                                                83   \n",
       "skill_fk_accuracy                                                          79   \n",
       "skill_long_passing                                                         83   \n",
       "skill_ball_control                                                         94   \n",
       "movement_acceleration                                                      94   \n",
       "movement_sprint_speed                                                      88   \n",
       "movement_agility                                                           95   \n",
       "movement_reactions                                                         90   \n",
       "movement_balance                                                           94   \n",
       "power_shot_power                                                           82   \n",
       "power_jumping                                                              56   \n",
       "power_stamina                                                              84   \n",
       "power_strength                                                             63   \n",
       "power_long_shots                                                           80   \n",
       "mentality_aggression                                                       54   \n",
       "mentality_interceptions                                                    41   \n",
       "mentality_positioning                                                      87   \n",
       "mentality_vision                                                           89   \n",
       "mentality_penalties                                                        88   \n",
       "mentality_composure                                                        91   \n",
       "defending_marking                                                          34   \n",
       "defending_standing_tackle                                                  27   \n",
       "defending_sliding_tackle                                                   22   \n",
       "ls                                                                       83+3   \n",
       "st                                                                       83+3   \n",
       "rs                                                                       83+3   \n",
       "lw                                                                       89+3   \n",
       "lf                                                                       88+3   \n",
       "cf                                                                       88+3   \n",
       "rf                                                                       88+3   \n",
       "rw                                                                       89+3   \n",
       "lam                                                                      89+3   \n",
       "cam                                                                      89+3   \n",
       "ram                                                                      89+3   \n",
       "lm                                                                       89+3   \n",
       "lcm                                                                      83+3   \n",
       "cm                                                                       83+3   \n",
       "rcm                                                                      83+3   \n",
       "rm                                                                       89+3   \n",
       "lwb                                                                      66+3   \n",
       "ldm                                                                      63+3   \n",
       "cdm                                                                      63+3   \n",
       "rdm                                                                      63+3   \n",
       "rwb                                                                      66+3   \n",
       "lb                                                                       61+3   \n",
       "lcb                                                                      49+3   \n",
       "cb                                                                       49+3   \n",
       "rcb                                                                      49+3   \n",
       "rb                                                                       61+3   \n",
       "label                                                                      LW   \n",
       "\n",
       "                                                                            5  \n",
       "sofifa_id                                                              192985  \n",
       "player_url                  https://sofifa.com/player/192985/kevin-de-bruy...  \n",
       "age                                                                        28  \n",
       "dob                                                                1991-06-28  \n",
       "height_cm                                                                 181  \n",
       "weight_kg                                                                  70  \n",
       "nationality                                                           Belgium  \n",
       "club                                                          Manchester City  \n",
       "overall                                                                    91  \n",
       "potential                                                                  91  \n",
       "value_eur                                                            90000000  \n",
       "wage_eur                                                               370000  \n",
       "player_positions                                                      CAM, CM  \n",
       "preferred_foot                                                          Right  \n",
       "international_reputation                                                    4  \n",
       "weak_foot                                                                   5  \n",
       "skill_moves                                                                 4  \n",
       "work_rate                                                           High/High  \n",
       "body_type                                                              Normal  \n",
       "real_face                                                                 Yes  \n",
       "release_clause_eur                                                  1.665e+08  \n",
       "player_tags                 #Dribbler, #Playmaker  , #Engine, #Distance Sh...  \n",
       "team_jersey_number                                                         17  \n",
       "loaned_from                                                               NaN  \n",
       "joined                                                             2015-08-30  \n",
       "contract_valid_until                                                     2023  \n",
       "nation_position                                                           RCM  \n",
       "nation_jersey_number                                                        7  \n",
       "pace                                                                       76  \n",
       "shooting                                                                   86  \n",
       "passing                                                                    92  \n",
       "dribbling                                                                  86  \n",
       "defending                                                                  61  \n",
       "physic                                                                     78  \n",
       "player_traits               Power Free-Kick, Avoids Using Weaker Foot, Div...  \n",
       "attacking_crossing                                                         93  \n",
       "attacking_finishing                                                        82  \n",
       "attacking_heading_accuracy                                                 55  \n",
       "attacking_short_passing                                                    92  \n",
       "attacking_volleys                                                          82  \n",
       "skill_dribbling                                                            86  \n",
       "skill_curve                                                                85  \n",
       "skill_fk_accuracy                                                          83  \n",
       "skill_long_passing                                                         91  \n",
       "skill_ball_control                                                         91  \n",
       "movement_acceleration                                                      77  \n",
       "movement_sprint_speed                                                      76  \n",
       "movement_agility                                                           78  \n",
       "movement_reactions                                                         91  \n",
       "movement_balance                                                           76  \n",
       "power_shot_power                                                           91  \n",
       "power_jumping                                                              63  \n",
       "power_stamina                                                              89  \n",
       "power_strength                                                             74  \n",
       "power_long_shots                                                           90  \n",
       "mentality_aggression                                                       76  \n",
       "mentality_interceptions                                                    61  \n",
       "mentality_positioning                                                      88  \n",
       "mentality_vision                                                           94  \n",
       "mentality_penalties                                                        79  \n",
       "mentality_composure                                                        91  \n",
       "defending_marking                                                          68  \n",
       "defending_standing_tackle                                                  58  \n",
       "defending_sliding_tackle                                                   51  \n",
       "ls                                                                       82+3  \n",
       "st                                                                       82+3  \n",
       "rs                                                                       82+3  \n",
       "lw                                                                       87+3  \n",
       "lf                                                                       87+3  \n",
       "cf                                                                       87+3  \n",
       "rf                                                                       87+3  \n",
       "rw                                                                       87+3  \n",
       "lam                                                                      88+3  \n",
       "cam                                                                      88+3  \n",
       "ram                                                                      88+3  \n",
       "lm                                                                       88+3  \n",
       "lcm                                                                      87+3  \n",
       "cm                                                                       87+3  \n",
       "rcm                                                                      87+3  \n",
       "rm                                                                       88+3  \n",
       "lwb                                                                      77+3  \n",
       "ldm                                                                      77+3  \n",
       "cdm                                                                      77+3  \n",
       "rdm                                                                      77+3  \n",
       "rwb                                                                      77+3  \n",
       "lb                                                                       73+3  \n",
       "lcb                                                                      66+3  \n",
       "cb                                                                       66+3  \n",
       "rcb                                                                      66+3  \n",
       "rb                                                                       73+3  \n",
       "label                                                                     CAM  "
      ]
     },
     "metadata": {},
     "output_type": "display_data"
    }
   ],
   "source": [
    "from IPython.display import display\n",
    "with pd.option_context('display.max_rows', 200, 'display.max_columns', 10):\n",
    "    display(df.head().T) "
   ]
  },
  {
   "cell_type": "code",
   "execution_count": 34,
   "metadata": {
    "ExecuteTime": {
     "end_time": "2020-10-11T12:55:44.894279Z",
     "start_time": "2020-10-11T12:55:44.876283Z"
    }
   },
   "outputs": [],
   "source": [
    "useless_features = ['sofifa_id', 'player_url', 'club', 'player_positions', \n",
    "                    'real_face', 'team_jersey_number', 'loaned_from', 'nation_position', \n",
    "                    'nation_jersey_number', 'dob']\n",
    "df.drop(useless_features, axis=1, inplace=True)"
   ]
  },
  {
   "cell_type": "markdown",
   "metadata": {},
   "source": [
    "## 1.2 Feature Engineering"
   ]
  },
  {
   "cell_type": "markdown",
   "metadata": {},
   "source": [
    "Now, we need to convert some features to be numeric."
   ]
  },
  {
   "cell_type": "code",
   "execution_count": 35,
   "metadata": {
    "ExecuteTime": {
     "end_time": "2020-10-11T12:55:44.943243Z",
     "start_time": "2020-10-11T12:55:44.897282Z"
    }
   },
   "outputs": [
    {
     "name": "stdout",
     "output_type": "stream",
     "text": [
      "<class 'pandas.core.frame.DataFrame'>\n",
      "Int64Index: 16242 entries, 0 to 18277\n",
      "Data columns (total 81 columns):\n",
      " #   Column                      Non-Null Count  Dtype  \n",
      "---  ------                      --------------  -----  \n",
      " 0   age                         16242 non-null  int64  \n",
      " 1   height_cm                   16242 non-null  int64  \n",
      " 2   weight_kg                   16242 non-null  int64  \n",
      " 3   nationality                 16242 non-null  object \n",
      " 4   overall                     16242 non-null  int64  \n",
      " 5   potential                   16242 non-null  int64  \n",
      " 6   value_eur                   16242 non-null  int64  \n",
      " 7   wage_eur                    16242 non-null  int64  \n",
      " 8   preferred_foot              16242 non-null  object \n",
      " 9   international_reputation    16242 non-null  int64  \n",
      " 10  weak_foot                   16242 non-null  int64  \n",
      " 11  skill_moves                 16242 non-null  int64  \n",
      " 12  work_rate                   16242 non-null  object \n",
      " 13  body_type                   16242 non-null  object \n",
      " 14  release_clause_eur          15077 non-null  float64\n",
      " 15  player_tags                 1499 non-null   object \n",
      " 16  joined                      15087 non-null  object \n",
      " 17  contract_valid_until        16042 non-null  float64\n",
      " 18  pace                        16242 non-null  float64\n",
      " 19  shooting                    16242 non-null  float64\n",
      " 20  passing                     16242 non-null  float64\n",
      " 21  dribbling                   16242 non-null  float64\n",
      " 22  defending                   16242 non-null  float64\n",
      " 23  physic                      16242 non-null  float64\n",
      " 24  player_traits               6902 non-null   object \n",
      " 25  attacking_crossing          16242 non-null  int64  \n",
      " 26  attacking_finishing         16242 non-null  int64  \n",
      " 27  attacking_heading_accuracy  16242 non-null  int64  \n",
      " 28  attacking_short_passing     16242 non-null  int64  \n",
      " 29  attacking_volleys           16242 non-null  int64  \n",
      " 30  skill_dribbling             16242 non-null  int64  \n",
      " 31  skill_curve                 16242 non-null  int64  \n",
      " 32  skill_fk_accuracy           16242 non-null  int64  \n",
      " 33  skill_long_passing          16242 non-null  int64  \n",
      " 34  skill_ball_control          16242 non-null  int64  \n",
      " 35  movement_acceleration       16242 non-null  int64  \n",
      " 36  movement_sprint_speed       16242 non-null  int64  \n",
      " 37  movement_agility            16242 non-null  int64  \n",
      " 38  movement_reactions          16242 non-null  int64  \n",
      " 39  movement_balance            16242 non-null  int64  \n",
      " 40  power_shot_power            16242 non-null  int64  \n",
      " 41  power_jumping               16242 non-null  int64  \n",
      " 42  power_stamina               16242 non-null  int64  \n",
      " 43  power_strength              16242 non-null  int64  \n",
      " 44  power_long_shots            16242 non-null  int64  \n",
      " 45  mentality_aggression        16242 non-null  int64  \n",
      " 46  mentality_interceptions     16242 non-null  int64  \n",
      " 47  mentality_positioning       16242 non-null  int64  \n",
      " 48  mentality_vision            16242 non-null  int64  \n",
      " 49  mentality_penalties         16242 non-null  int64  \n",
      " 50  mentality_composure         16242 non-null  int64  \n",
      " 51  defending_marking           16242 non-null  int64  \n",
      " 52  defending_standing_tackle   16242 non-null  int64  \n",
      " 53  defending_sliding_tackle    16242 non-null  int64  \n",
      " 54  ls                          16242 non-null  object \n",
      " 55  st                          16242 non-null  object \n",
      " 56  rs                          16242 non-null  object \n",
      " 57  lw                          16242 non-null  object \n",
      " 58  lf                          16242 non-null  object \n",
      " 59  cf                          16242 non-null  object \n",
      " 60  rf                          16242 non-null  object \n",
      " 61  rw                          16242 non-null  object \n",
      " 62  lam                         16242 non-null  object \n",
      " 63  cam                         16242 non-null  object \n",
      " 64  ram                         16242 non-null  object \n",
      " 65  lm                          16242 non-null  object \n",
      " 66  lcm                         16242 non-null  object \n",
      " 67  cm                          16242 non-null  object \n",
      " 68  rcm                         16242 non-null  object \n",
      " 69  rm                          16242 non-null  object \n",
      " 70  lwb                         16242 non-null  object \n",
      " 71  ldm                         16242 non-null  object \n",
      " 72  cdm                         16242 non-null  object \n",
      " 73  rdm                         16242 non-null  object \n",
      " 74  rwb                         16242 non-null  object \n",
      " 75  lb                          16242 non-null  object \n",
      " 76  lcb                         16242 non-null  object \n",
      " 77  cb                          16242 non-null  object \n",
      " 78  rcb                         16242 non-null  object \n",
      " 79  rb                          16242 non-null  object \n",
      " 80  label                       16242 non-null  object \n",
      "dtypes: float64(8), int64(39), object(34)\n",
      "memory usage: 10.2+ MB\n"
     ]
    }
   ],
   "source": [
    "df.info()"
   ]
  },
  {
   "cell_type": "code",
   "execution_count": 36,
   "metadata": {
    "ExecuteTime": {
     "end_time": "2020-10-11T12:55:45.582515Z",
     "start_time": "2020-10-11T12:55:44.945247Z"
    }
   },
   "outputs": [],
   "source": [
    " df.iloc[:, 54:-1] = df.iloc[:, 54:-1].apply(lambda x: x.str.split('+').apply(lambda x: x[0])).astype(np.int64)"
   ]
  },
  {
   "cell_type": "markdown",
   "metadata": {
    "ExecuteTime": {
     "end_time": "2020-10-11T06:38:31.125519Z",
     "start_time": "2020-10-11T06:38:31.081413Z"
    }
   },
   "source": [
    "Now we need to convert some features to be more useful.  \n",
    "I'd like to convert the 'joined' column to 'seniority', and the 'contract_valid_until' column to 'years_untill_contract_done'"
   ]
  },
  {
   "cell_type": "code",
   "execution_count": 37,
   "metadata": {
    "ExecuteTime": {
     "end_time": "2020-10-11T12:55:45.622522Z",
     "start_time": "2020-10-11T12:55:45.584242Z"
    }
   },
   "outputs": [],
   "source": [
    "import datetime\n",
    "anchor_date = pd.to_datetime('01.01.2020')\n",
    "\n",
    "df['seniority'] = (pd.to_datetime(datetime.datetime.now()) - pd.to_datetime(df['joined'])).dt.days / 365\n",
    "df['years_untill_contract_done'] = (df['contract_valid_until'] - anchor_date.year)\n",
    "df = df[df['years_untill_contract_done'] >= 0]"
   ]
  },
  {
   "cell_type": "markdown",
   "metadata": {},
   "source": [
    "And remove the original features:"
   ]
  },
  {
   "cell_type": "code",
   "execution_count": 38,
   "metadata": {
    "ExecuteTime": {
     "end_time": "2020-10-11T12:55:45.635248Z",
     "start_time": "2020-10-11T12:55:45.623242Z"
    }
   },
   "outputs": [],
   "source": [
    "df = df.drop(['player_tags', 'player_traits', 'joined', 'contract_valid_until'], axis=1)"
   ]
  },
  {
   "cell_type": "markdown",
   "metadata": {},
   "source": [
    "## 1.3 Categorical Data"
   ]
  },
  {
   "cell_type": "markdown",
   "metadata": {},
   "source": [
    "Let's see which categorical data we have:"
   ]
  },
  {
   "cell_type": "code",
   "execution_count": 39,
   "metadata": {
    "ExecuteTime": {
     "end_time": "2020-10-11T12:55:45.651243Z",
     "start_time": "2020-10-11T12:55:45.637242Z"
    },
    "scrolled": true
   },
   "outputs": [
    {
     "data": {
      "text/html": [
       "<div>\n",
       "<style scoped>\n",
       "    .dataframe tbody tr th:only-of-type {\n",
       "        vertical-align: middle;\n",
       "    }\n",
       "\n",
       "    .dataframe tbody tr th {\n",
       "        vertical-align: top;\n",
       "    }\n",
       "\n",
       "    .dataframe thead th {\n",
       "        text-align: right;\n",
       "    }\n",
       "</style>\n",
       "<table border=\"1\" class=\"dataframe\">\n",
       "  <thead>\n",
       "    <tr style=\"text-align: right;\">\n",
       "      <th></th>\n",
       "      <th>nationality</th>\n",
       "      <th>preferred_foot</th>\n",
       "      <th>work_rate</th>\n",
       "      <th>body_type</th>\n",
       "      <th>label</th>\n",
       "    </tr>\n",
       "  </thead>\n",
       "  <tbody>\n",
       "    <tr>\n",
       "      <th>0</th>\n",
       "      <td>Argentina</td>\n",
       "      <td>Left</td>\n",
       "      <td>Medium/Low</td>\n",
       "      <td>Messi</td>\n",
       "      <td>RW</td>\n",
       "    </tr>\n",
       "    <tr>\n",
       "      <th>1</th>\n",
       "      <td>Portugal</td>\n",
       "      <td>Right</td>\n",
       "      <td>High/Low</td>\n",
       "      <td>C. Ronaldo</td>\n",
       "      <td>ST</td>\n",
       "    </tr>\n",
       "    <tr>\n",
       "      <th>2</th>\n",
       "      <td>Brazil</td>\n",
       "      <td>Right</td>\n",
       "      <td>High/Medium</td>\n",
       "      <td>Neymar</td>\n",
       "      <td>LW</td>\n",
       "    </tr>\n",
       "    <tr>\n",
       "      <th>4</th>\n",
       "      <td>Belgium</td>\n",
       "      <td>Right</td>\n",
       "      <td>High/Medium</td>\n",
       "      <td>Normal</td>\n",
       "      <td>LW</td>\n",
       "    </tr>\n",
       "    <tr>\n",
       "      <th>5</th>\n",
       "      <td>Belgium</td>\n",
       "      <td>Right</td>\n",
       "      <td>High/High</td>\n",
       "      <td>Normal</td>\n",
       "      <td>CAM</td>\n",
       "    </tr>\n",
       "    <tr>\n",
       "      <th>...</th>\n",
       "      <td>...</td>\n",
       "      <td>...</td>\n",
       "      <td>...</td>\n",
       "      <td>...</td>\n",
       "      <td>...</td>\n",
       "    </tr>\n",
       "    <tr>\n",
       "      <th>18266</th>\n",
       "      <td>China PR</td>\n",
       "      <td>Right</td>\n",
       "      <td>Medium/Medium</td>\n",
       "      <td>Normal</td>\n",
       "      <td>CAM</td>\n",
       "    </tr>\n",
       "    <tr>\n",
       "      <th>18269</th>\n",
       "      <td>China PR</td>\n",
       "      <td>Right</td>\n",
       "      <td>Medium/Medium</td>\n",
       "      <td>Normal</td>\n",
       "      <td>CB</td>\n",
       "    </tr>\n",
       "    <tr>\n",
       "      <th>18270</th>\n",
       "      <td>England</td>\n",
       "      <td>Right</td>\n",
       "      <td>Medium/Medium</td>\n",
       "      <td>Lean</td>\n",
       "      <td>CM</td>\n",
       "    </tr>\n",
       "    <tr>\n",
       "      <th>18274</th>\n",
       "      <td>China PR</td>\n",
       "      <td>Right</td>\n",
       "      <td>Medium/Medium</td>\n",
       "      <td>Normal</td>\n",
       "      <td>CB</td>\n",
       "    </tr>\n",
       "    <tr>\n",
       "      <th>18276</th>\n",
       "      <td>China PR</td>\n",
       "      <td>Right</td>\n",
       "      <td>Low/Low</td>\n",
       "      <td>Lean</td>\n",
       "      <td>CM</td>\n",
       "    </tr>\n",
       "  </tbody>\n",
       "</table>\n",
       "<p>15088 rows × 5 columns</p>\n",
       "</div>"
      ],
      "text/plain": [
       "      nationality preferred_foot      work_rate   body_type label\n",
       "0       Argentina           Left     Medium/Low       Messi    RW\n",
       "1        Portugal          Right       High/Low  C. Ronaldo    ST\n",
       "2          Brazil          Right    High/Medium      Neymar    LW\n",
       "4         Belgium          Right    High/Medium      Normal    LW\n",
       "5         Belgium          Right      High/High      Normal   CAM\n",
       "...           ...            ...            ...         ...   ...\n",
       "18266    China PR          Right  Medium/Medium      Normal   CAM\n",
       "18269    China PR          Right  Medium/Medium      Normal    CB\n",
       "18270     England          Right  Medium/Medium        Lean    CM\n",
       "18274    China PR          Right  Medium/Medium      Normal    CB\n",
       "18276    China PR          Right        Low/Low        Lean    CM\n",
       "\n",
       "[15088 rows x 5 columns]"
      ]
     },
     "execution_count": 39,
     "metadata": {},
     "output_type": "execute_result"
    }
   ],
   "source": [
    "df.select_dtypes('object')"
   ]
  },
  {
   "cell_type": "markdown",
   "metadata": {},
   "source": [
    "###  1.3.1 Body type"
   ]
  },
  {
   "cell_type": "code",
   "execution_count": 40,
   "metadata": {
    "ExecuteTime": {
     "end_time": "2020-10-11T12:55:45.661246Z",
     "start_time": "2020-10-11T12:55:45.653276Z"
    },
    "scrolled": true
   },
   "outputs": [
    {
     "data": {
      "text/plain": [
       "Normal                 8621\n",
       "Lean                   5646\n",
       "Stocky                  815\n",
       "Shaqiri                   1\n",
       "Akinfenwa                 1\n",
       "PLAYER_BODY_TYPE_25       1\n",
       "C. Ronaldo                1\n",
       "Messi                     1\n",
       "Neymar                    1\n",
       "Name: body_type, dtype: int64"
      ]
     },
     "execution_count": 40,
     "metadata": {},
     "output_type": "execute_result"
    }
   ],
   "source": [
    "df['body_type'].value_counts()"
   ]
  },
  {
   "cell_type": "markdown",
   "metadata": {},
   "source": [
    "We'll ignore all the unique types:"
   ]
  },
  {
   "cell_type": "code",
   "execution_count": 41,
   "metadata": {
    "ExecuteTime": {
     "end_time": "2020-10-11T12:55:45.677245Z",
     "start_time": "2020-10-11T12:55:45.663245Z"
    }
   },
   "outputs": [],
   "source": [
    "df = df[df['body_type'].isin(['Normal','Lean','Stocky'])]"
   ]
  },
  {
   "cell_type": "code",
   "execution_count": 42,
   "metadata": {
    "ExecuteTime": {
     "end_time": "2020-10-11T12:55:45.707516Z",
     "start_time": "2020-10-11T12:55:45.680244Z"
    }
   },
   "outputs": [],
   "source": [
    "df = pd.get_dummies(df, columns=['body_type'])"
   ]
  },
  {
   "cell_type": "markdown",
   "metadata": {},
   "source": [
    "### 1.3.2 work rate"
   ]
  },
  {
   "cell_type": "code",
   "execution_count": 43,
   "metadata": {
    "ExecuteTime": {
     "end_time": "2020-10-11T12:55:45.718246Z",
     "start_time": "2020-10-11T12:55:45.709242Z"
    }
   },
   "outputs": [
    {
     "data": {
      "text/plain": [
       "Medium/Medium    7296\n",
       "High/Medium      3008\n",
       "Medium/High      1590\n",
       "High/High         919\n",
       "Medium/Low        814\n",
       "High/Low          627\n",
       "Low/Medium        419\n",
       "Low/High          379\n",
       "Low/Low            30\n",
       "Name: work_rate, dtype: int64"
      ]
     },
     "execution_count": 43,
     "metadata": {},
     "output_type": "execute_result"
    }
   ],
   "source": [
    " df['work_rate'].value_counts()"
   ]
  },
  {
   "cell_type": "markdown",
   "metadata": {},
   "source": [
    "For now, let's just leave the major rate:"
   ]
  },
  {
   "cell_type": "code",
   "execution_count": 44,
   "metadata": {
    "ExecuteTime": {
     "end_time": "2020-10-11T12:55:45.741262Z",
     "start_time": "2020-10-11T12:55:45.720247Z"
    }
   },
   "outputs": [],
   "source": [
    "df['work_rate'] = df['work_rate'].str.split('/').apply(lambda x: x[0])"
   ]
  },
  {
   "cell_type": "code",
   "execution_count": 45,
   "metadata": {
    "ExecuteTime": {
     "end_time": "2020-10-11T12:55:45.786346Z",
     "start_time": "2020-10-11T12:55:45.744244Z"
    }
   },
   "outputs": [],
   "source": [
    "df = pd.get_dummies(df, columns=['work_rate'])"
   ]
  },
  {
   "cell_type": "markdown",
   "metadata": {},
   "source": [
    "### 1.3.3 Preferred foot"
   ]
  },
  {
   "cell_type": "code",
   "execution_count": 46,
   "metadata": {
    "ExecuteTime": {
     "end_time": "2020-10-11T12:55:45.795245Z",
     "start_time": "2020-10-11T12:55:45.787242Z"
    }
   },
   "outputs": [
    {
     "data": {
      "text/plain": [
       "Right    11262\n",
       "Left      3820\n",
       "Name: preferred_foot, dtype: int64"
      ]
     },
     "execution_count": 46,
     "metadata": {},
     "output_type": "execute_result"
    }
   ],
   "source": [
    " df['preferred_foot'].value_counts()"
   ]
  },
  {
   "cell_type": "markdown",
   "metadata": {},
   "source": [
    "We'll make this feature a flag - 1 for Right and 0 for left."
   ]
  },
  {
   "cell_type": "code",
   "execution_count": 47,
   "metadata": {
    "ExecuteTime": {
     "end_time": "2020-10-11T12:55:45.840554Z",
     "start_time": "2020-10-11T12:55:45.799242Z"
    }
   },
   "outputs": [],
   "source": [
    "df = pd.get_dummies(df, columns=['preferred_foot'], drop_first=True)"
   ]
  },
  {
   "cell_type": "markdown",
   "metadata": {},
   "source": [
    "### 1.3.4 Nationality"
   ]
  },
  {
   "cell_type": "code",
   "execution_count": 48,
   "metadata": {
    "ExecuteTime": {
     "end_time": "2020-10-11T12:55:45.851243Z",
     "start_time": "2020-10-11T12:55:45.842242Z"
    }
   },
   "outputs": [
    {
     "data": {
      "text/plain": [
       "England           1482\n",
       "Germany           1048\n",
       "Spain              919\n",
       "France             873\n",
       "Argentina          732\n",
       "                  ... \n",
       "Belize               1\n",
       "Barbados             1\n",
       "Liberia              1\n",
       "Chinese Taipei       1\n",
       "Guam                 1\n",
       "Name: nationality, Length: 156, dtype: int64"
      ]
     },
     "execution_count": 48,
     "metadata": {},
     "output_type": "execute_result"
    }
   ],
   "source": [
    " df['nationality'].value_counts()"
   ]
  },
  {
   "cell_type": "markdown",
   "metadata": {},
   "source": [
    "Let's set a threshold for 100:"
   ]
  },
  {
   "cell_type": "code",
   "execution_count": 49,
   "metadata": {
    "ExecuteTime": {
     "end_time": "2020-10-11T12:55:45.868244Z",
     "start_time": "2020-10-11T12:55:45.856292Z"
    }
   },
   "outputs": [],
   "source": [
    "nationality_threshold = 100\n",
    "nations = list(df['nationality'].value_counts()[df['nationality'].value_counts() > nationality_threshold].index)"
   ]
  },
  {
   "cell_type": "code",
   "execution_count": 50,
   "metadata": {
    "ExecuteTime": {
     "end_time": "2020-10-11T12:55:45.892559Z",
     "start_time": "2020-10-11T12:55:45.870245Z"
    }
   },
   "outputs": [],
   "source": [
    "df.loc[~df['nationality'].isin(nations), 'nationality'] = 'Other'"
   ]
  },
  {
   "cell_type": "code",
   "execution_count": 51,
   "metadata": {
    "ExecuteTime": {
     "end_time": "2020-10-11T12:55:45.919343Z",
     "start_time": "2020-10-11T12:55:45.894242Z"
    }
   },
   "outputs": [],
   "source": [
    "df = pd.get_dummies(df, columns=['nationality'])"
   ]
  },
  {
   "cell_type": "markdown",
   "metadata": {},
   "source": [
    "## 1.4 Labels"
   ]
  },
  {
   "cell_type": "markdown",
   "metadata": {},
   "source": [
    "First, I'd like to keep the labels for later:"
   ]
  },
  {
   "cell_type": "code",
   "execution_count": 53,
   "metadata": {
    "ExecuteTime": {
     "end_time": "2020-10-11T12:57:12.554010Z",
     "start_time": "2020-10-11T12:57:12.541979Z"
    }
   },
   "outputs": [],
   "source": [
    "labels = df['label']\n",
    "df.drop('label', axis=1, inplace=True)"
   ]
  },
  {
   "cell_type": "code",
   "execution_count": 73,
   "metadata": {
    "ExecuteTime": {
     "end_time": "2020-10-11T13:42:24.382209Z",
     "start_time": "2020-10-11T13:42:24.366214Z"
    }
   },
   "outputs": [
    {
     "data": {
      "text/plain": [
       "14"
      ]
     },
     "execution_count": 73,
     "metadata": {},
     "output_type": "execute_result"
    }
   ],
   "source": [
    "len(np.unique(labels))"
   ]
  },
  {
   "cell_type": "markdown",
   "metadata": {},
   "source": [
    "14 classes is too much, so we'll map to 3 clusters: defenders, midfielders and Forward:"
   ]
  },
  {
   "cell_type": "code",
   "execution_count": 74,
   "metadata": {
    "ExecuteTime": {
     "end_time": "2020-10-11T13:42:37.915523Z",
     "start_time": "2020-10-11T13:42:37.900526Z"
    }
   },
   "outputs": [
    {
     "data": {
      "text/plain": [
       "array(['CAM', 'CB', 'CDM', 'CF', 'CM', 'LB', 'LM', 'LW', 'LWB', 'RB',\n",
       "       'RM', 'RW', 'RWB', 'ST'], dtype=object)"
      ]
     },
     "execution_count": 74,
     "metadata": {},
     "output_type": "execute_result"
    }
   ],
   "source": [
    "np.unique(labels)"
   ]
  },
  {
   "cell_type": "code",
   "execution_count": 77,
   "metadata": {
    "ExecuteTime": {
     "end_time": "2020-10-11T13:45:28.318844Z",
     "start_time": "2020-10-11T13:45:28.301891Z"
    }
   },
   "outputs": [],
   "source": [
    "classes_mapping = {\n",
    "    'CAM' : 'M',\n",
    "    'CDM' : 'M',\n",
    "    'CM' : 'M',\n",
    "    'LM' : 'M',\n",
    "    'RM' : 'M',\n",
    "    'CB' : 'D',\n",
    "    'LB' : 'D',\n",
    "    'LWB' : 'D',\n",
    "    'RB' : 'D',\n",
    "    'RWB' : 'D',\n",
    "    'CF' : 'F',\n",
    "    'LW' : 'F',\n",
    "    'RW' : 'F',\n",
    "    'ST' : 'F',\n",
    "}\n",
    "labels_reduced = labels.replace(classes_mapping)"
   ]
  },
  {
   "cell_type": "markdown",
   "metadata": {},
   "source": [
    "## 1.5 Normalization"
   ]
  },
  {
   "cell_type": "markdown",
   "metadata": {},
   "source": [
    "Before we normalize, we should make sure our date is full:"
   ]
  },
  {
   "cell_type": "code",
   "execution_count": 54,
   "metadata": {
    "ExecuteTime": {
     "end_time": "2020-10-11T12:57:14.455276Z",
     "start_time": "2020-10-11T12:57:14.437238Z"
    }
   },
   "outputs": [
    {
     "data": {
      "text/plain": [
       "True"
      ]
     },
     "execution_count": 54,
     "metadata": {},
     "output_type": "execute_result"
    }
   ],
   "source": [
    "np.any(np.isnan(df))"
   ]
  },
  {
   "cell_type": "markdown",
   "metadata": {},
   "source": [
    "because there are some nans, we'll fill them with the mean value:"
   ]
  },
  {
   "cell_type": "code",
   "execution_count": 55,
   "metadata": {
    "ExecuteTime": {
     "end_time": "2020-10-11T12:57:18.734522Z",
     "start_time": "2020-10-11T12:57:18.700261Z"
    }
   },
   "outputs": [],
   "source": [
    "df.fillna(df.mean(), inplace=True)"
   ]
  },
  {
   "cell_type": "markdown",
   "metadata": {},
   "source": [
    "And normalize the data:"
   ]
  },
  {
   "cell_type": "code",
   "execution_count": 56,
   "metadata": {
    "ExecuteTime": {
     "end_time": "2020-10-11T12:57:20.714721Z",
     "start_time": "2020-10-11T12:57:20.549603Z"
    }
   },
   "outputs": [],
   "source": [
    "df_norm = (df - df.mean()) / df.std()"
   ]
  },
  {
   "cell_type": "markdown",
   "metadata": {},
   "source": [
    "# 2. First Clustering Attempt"
   ]
  },
  {
   "cell_type": "markdown",
   "metadata": {},
   "source": [
    "Now we'd like to see if the data can be clustered by the players' positions.  \n",
    "We'll try 2 methods:\n",
    "* K-Means\n",
    "* DBSCAN"
   ]
  },
  {
   "cell_type": "markdown",
   "metadata": {},
   "source": [
    "## 2.1 K-Means"
   ]
  },
  {
   "cell_type": "markdown",
   "metadata": {},
   "source": [
    "K-Means is very simple clustering algorithm.  \n",
    "We start with `k` random points which represent the `means`.  \n",
    "In every iteration, we tag each point according to its closest mean, and then we re-calculate the means (the centroid of all the samples from the same cluster).  \n",
    "We stop the process when the centroids move in the current iteration (related to the previous iteration) less than epsilon."
   ]
  },
  {
   "cell_type": "code",
   "execution_count": 78,
   "metadata": {
    "ExecuteTime": {
     "end_time": "2020-10-11T13:45:49.281191Z",
     "start_time": "2020-10-11T13:45:49.277233Z"
    }
   },
   "outputs": [],
   "source": [
    "X = df_norm.to_numpy()\n",
    "y = labels_reduced.to_numpy()"
   ]
  },
  {
   "cell_type": "code",
   "execution_count": 79,
   "metadata": {
    "ExecuteTime": {
     "end_time": "2020-10-11T13:45:50.878128Z",
     "start_time": "2020-10-11T13:45:50.229174Z"
    }
   },
   "outputs": [
    {
     "data": {
      "text/plain": [
       "array([1, 1, 1, ..., 0, 0, 0])"
      ]
     },
     "execution_count": 79,
     "metadata": {},
     "output_type": "execute_result"
    }
   ],
   "source": [
    "from sklearn.cluster import KMeans\n",
    "\n",
    "kmeans = KMeans(n_clusters=len(np.unique(y)), random_state=4).fit(X)\n",
    "kmeans.labels_"
   ]
  },
  {
   "cell_type": "markdown",
   "metadata": {},
   "source": [
    "Let's map the clusters to the positions by the most common label in the cluster:"
   ]
  },
  {
   "cell_type": "code",
   "execution_count": 80,
   "metadata": {
    "ExecuteTime": {
     "end_time": "2020-10-11T13:45:53.320995Z",
     "start_time": "2020-10-11T13:45:53.308995Z"
    }
   },
   "outputs": [],
   "source": [
    "classes = np.unique(y)\n",
    "mapping = {pos : np.argmax(np.bincount(kmeans.labels_[y == pos])) for pos in classes}"
   ]
  },
  {
   "cell_type": "code",
   "execution_count": 81,
   "metadata": {
    "ExecuteTime": {
     "end_time": "2020-10-11T13:45:54.314054Z",
     "start_time": "2020-10-11T13:45:54.309062Z"
    }
   },
   "outputs": [
    {
     "data": {
      "text/plain": [
       "{'D': 0, 'F': 2, 'M': 1}"
      ]
     },
     "execution_count": 81,
     "metadata": {},
     "output_type": "execute_result"
    }
   ],
   "source": [
    "mapping"
   ]
  },
  {
   "cell_type": "code",
   "execution_count": 82,
   "metadata": {
    "ExecuteTime": {
     "end_time": "2020-10-11T13:51:48.533578Z",
     "start_time": "2020-10-11T13:51:48.510621Z"
    }
   },
   "outputs": [
    {
     "data": {
      "text/plain": [
       "0.6255138575785705"
      ]
     },
     "execution_count": 82,
     "metadata": {},
     "output_type": "execute_result"
    }
   ],
   "source": [
    "(labels_reduced.replace(mapping) == kmeans.labels_).sum() / len(labels_reduced)"
   ]
  },
  {
   "cell_type": "markdown",
   "metadata": {},
   "source": [
    "We got 62.5% accuracy. not so good...  \n",
    "Let's try DBSCAN:"
   ]
  },
  {
   "cell_type": "markdown",
   "metadata": {},
   "source": [
    "## 2.2 DBSCAN"
   ]
  },
  {
   "cell_type": "markdown",
   "metadata": {},
   "source": [
    "The `eps` hyper-parameter is the most important parameter of the DBSCAN.  \n",
    "By this threshold, and the other parametr `min_smaples`, this algorithm try to find *core samples*.  \n",
    "*Core sample* is a point which has at least `min_samples` neighbors in its epsilon-ball.  \n",
    "Now, we do 2 things:\n",
    "1. Tag all the neighborhood as the same cluster $C_j$\n",
    "2. If one (or more) of the neighbors meets the *core sample* criteria, tag all its neighborhood also as $C_j$\n",
    "\n",
    "All the 'leftover' samples, which aren't part of any neighborhood, marked as outliers (cluster -1)."
   ]
  },
  {
   "cell_type": "markdown",
   "metadata": {
    "ExecuteTime": {
     "end_time": "2020-10-12T11:52:40.808417Z",
     "start_time": "2020-10-12T11:51:37.366417Z"
    }
   },
   "source": [
    "To understand the parameters tuning process, we need to understand their role.  \n",
    "As I wrote in the previous section, the `eps` define the neighborhood size.  \n",
    "It means that for too small `eps`, all the samples will tag as outliers.  \n",
    "In contrast, for too large `eps`, akk the samples will tag as the same cluster.  \n",
    "At the tests I run before write these lines, I've found that for `eps` < 3, all the samples marked as outliers, and for `eps` > 13 we got only one cluster.  \n",
    "So, let's search for the optimal `eps` value which lead to satisfactory amount of clusters (between 3 and 11)."
   ]
  },
  {
   "cell_type": "code",
   "execution_count": 162,
   "metadata": {
    "ExecuteTime": {
     "end_time": "2020-10-13T07:34:13.568695Z",
     "start_time": "2020-10-12T13:28:04.282394Z"
    }
   },
   "outputs": [
    {
     "name": "stdout",
     "output_type": "stream",
     "text": [
      "Loc 0: For eps=3.0 -> [-1  0  1  2  3] clusters.\n",
      "Loc 1: For eps=3.050251256281407 -> [-1  0  1  2  3] clusters.\n",
      "Loc 2: For eps=3.100502512562814 -> [-1  0  1  2  3  4] clusters.\n",
      "Loc 3: For eps=3.150753768844221 -> [-1  0  1  2  3  4  5  6] clusters.\n",
      "Loc 4: For eps=3.201005025125628 -> [-1  0  1  2  3  4  5  6] clusters.\n",
      "Loc 5: For eps=3.251256281407035 -> [-1  0  1  2  3  4  5  6  7  8  9 10] clusters.\n",
      "Loc 6: For eps=3.301507537688442 -> [-1  0  1  2  3  4  5  6  7  8  9 10 11] clusters.\n",
      "Loc 7: For eps=3.351758793969849 -> [-1  0  1  2  3  4  5  6  7  8  9 10 11 12] clusters.\n",
      "Loc 8: For eps=3.4020100502512562 -> [-1  0  1  2  3  4  5  6  7  8  9 10 11 12 13 14 15 16 17 18] clusters.\n",
      "Loc 9: For eps=3.4522613065326633 -> [-1  0  1  2  3  4  5  6  7  8  9 10 11 12 13 14 15 16 17 18 19 20 21 22\n",
      " 23] clusters.\n",
      "Loc 10: For eps=3.5025125628140703 -> [-1  0  1  2  3  4  5  6  7  8  9 10 11 12 13 14 15 16 17 18 19 20 21 22\n",
      " 23 24 25] clusters.\n",
      "Loc 11: For eps=3.5527638190954773 -> [-1  0  1  2  3  4  5  6  7  8  9 10 11 12 13 14 15 16 17 18 19 20 21 22\n",
      " 23 24 25 26] clusters.\n",
      "Loc 12: For eps=3.6030150753768844 -> [-1  0  1  2  3  4  5  6  7  8  9 10 11 12 13 14 15 16 17 18 19 20 21 22\n",
      " 23 24 25 26 27 28 29 30 31] clusters.\n",
      "Loc 13: For eps=3.6532663316582914 -> [-1  0  1  2  3  4  5  6  7  8  9 10 11 12 13 14 15 16 17 18 19 20 21 22\n",
      " 23 24 25 26 27 28 29 30 31 32 33 34 35 36 37 38 39 40 41] clusters.\n",
      "Loc 14: For eps=3.7035175879396984 -> [-1  0  1  2  3  4  5  6  7  8  9 10 11 12 13 14 15 16 17 18 19 20 21 22\n",
      " 23 24 25 26 27 28 29 30 31 32 33 34 35 36 37 38 39 40 41 42] clusters.\n",
      "Loc 15: For eps=3.7537688442211055 -> [-1  0  1  2  3  4  5  6  7  8  9 10 11 12 13 14 15 16 17 18 19 20 21 22\n",
      " 23 24 25 26 27 28 29 30 31 32 33 34 35 36 37 38 39 40 41 42 43 44 45] clusters.\n",
      "Loc 16: For eps=3.8040201005025125 -> [-1  0  1  2  3  4  5  6  7  8  9 10 11 12 13 14 15 16 17 18 19 20 21 22\n",
      " 23 24 25 26 27 28 29 30 31 32 33 34 35 36 37 38 39 40 41 42 43 44 45 46\n",
      " 47 48 49 50 51 52 53 54] clusters.\n",
      "Loc 17: For eps=3.8542713567839195 -> [-1  0  1  2  3  4  5  6  7  8  9 10 11 12 13 14 15 16 17 18 19 20 21 22\n",
      " 23 24 25 26 27 28 29 30 31 32 33 34 35 36 37 38 39 40 41 42 43 44 45 46\n",
      " 47 48 49 50 51 52 53 54 55 56 57 58 59 60] clusters.\n",
      "Loc 18: For eps=3.9045226130653266 -> [-1  0  1  2  3  4  5  6  7  8  9 10 11 12 13 14 15 16 17 18 19 20 21 22\n",
      " 23 24 25 26 27 28 29 30 31 32 33 34 35 36 37 38 39 40 41 42 43 44 45 46\n",
      " 47 48 49 50 51 52 53 54 55 56 57 58 59 60 61 62 63 64 65] clusters.\n",
      "Loc 19: For eps=3.9547738693467336 -> [-1  0  1  2  3  4  5  6  7  8  9 10 11 12 13 14 15 16 17 18 19 20 21 22\n",
      " 23 24 25 26 27 28 29 30 31 32 33 34 35 36 37 38 39 40 41 42 43 44 45 46\n",
      " 47 48 49 50 51 52 53 54 55 56 57 58 59 60 61 62 63 64 65 66 67 68 69 70\n",
      " 71 72 73 74 75 76] clusters.\n",
      "Loc 20: For eps=4.005025125628141 -> [-1  0  1  2  3  4  5  6  7  8  9 10 11 12 13 14 15 16 17 18 19 20 21 22\n",
      " 23 24 25 26 27 28 29 30 31 32 33 34 35 36 37 38 39 40 41 42 43 44 45 46\n",
      " 47 48 49 50 51 52 53 54 55 56 57 58 59 60 61 62 63 64 65 66 67 68 69 70\n",
      " 71 72 73 74 75 76 77 78 79 80 81 82 83 84 85 86 87] clusters.\n",
      "Loc 21: For eps=4.055276381909548 -> [ -1   0   1   2   3   4   5   6   7   8   9  10  11  12  13  14  15  16\n",
      "  17  18  19  20  21  22  23  24  25  26  27  28  29  30  31  32  33  34\n",
      "  35  36  37  38  39  40  41  42  43  44  45  46  47  48  49  50  51  52\n",
      "  53  54  55  56  57  58  59  60  61  62  63  64  65  66  67  68  69  70\n",
      "  71  72  73  74  75  76  77  78  79  80  81  82  83  84  85  86  87  88\n",
      "  89  90  91  92  93  94  95  96  97  98  99 100 101 102] clusters.\n",
      "Loc 22: For eps=4.105527638190955 -> [ -1   0   1   2   3   4   5   6   7   8   9  10  11  12  13  14  15  16\n",
      "  17  18  19  20  21  22  23  24  25  26  27  28  29  30  31  32  33  34\n",
      "  35  36  37  38  39  40  41  42  43  44  45  46  47  48  49  50  51  52\n",
      "  53  54  55  56  57  58  59  60  61  62  63  64  65  66  67  68  69  70\n",
      "  71  72  73  74  75  76  77  78  79  80  81  82  83  84  85  86  87  88\n",
      "  89  90  91  92  93  94  95  96  97  98  99 100 101 102 103 104 105 106\n",
      " 107 108 109 110 111 112 113] clusters.\n",
      "Loc 23: For eps=4.155778894472362 -> [ -1   0   1   2   3   4   5   6   7   8   9  10  11  12  13  14  15  16\n",
      "  17  18  19  20  21  22  23  24  25  26  27  28  29  30  31  32  33  34\n",
      "  35  36  37  38  39  40  41  42  43  44  45  46  47  48  49  50  51  52\n",
      "  53  54  55  56  57  58  59  60  61  62  63  64  65  66  67  68  69  70\n",
      "  71  72  73  74  75  76  77  78  79  80  81  82  83  84  85  86  87  88\n",
      "  89  90  91  92  93  94  95  96  97  98  99 100 101 102 103 104] clusters.\n",
      "Loc 24: For eps=4.206030150753769 -> [ -1   0   1   2   3   4   5   6   7   8   9  10  11  12  13  14  15  16\n",
      "  17  18  19  20  21  22  23  24  25  26  27  28  29  30  31  32  33  34\n",
      "  35  36  37  38  39  40  41  42  43  44  45  46  47  48  49  50  51  52\n",
      "  53  54  55  56  57  58  59  60  61  62  63  64  65  66  67  68  69  70\n",
      "  71  72  73  74  75  76  77  78  79  80  81  82  83  84  85  86  87  88\n",
      "  89  90  91  92  93  94  95  96  97  98  99 100 101 102 103 104 105] clusters.\n",
      "Loc 25: For eps=4.256281407035176 -> [ -1   0   1   2   3   4   5   6   7   8   9  10  11  12  13  14  15  16\n",
      "  17  18  19  20  21  22  23  24  25  26  27  28  29  30  31  32  33  34\n",
      "  35  36  37  38  39  40  41  42  43  44  45  46  47  48  49  50  51  52\n",
      "  53  54  55  56  57  58  59  60  61  62  63  64  65  66  67  68  69  70\n",
      "  71  72  73  74  75  76  77  78  79  80  81  82  83  84  85  86  87  88\n",
      "  89  90  91  92  93  94  95  96  97  98  99 100 101 102 103 104] clusters.\n",
      "Loc 26: For eps=4.306532663316583 -> [-1  0  1  2  3  4  5  6  7  8  9 10 11 12 13 14 15 16 17 18 19 20 21 22\n",
      " 23 24 25 26 27 28 29 30 31 32 33 34 35 36 37 38 39 40 41 42 43 44 45 46\n",
      " 47 48 49 50 51 52 53 54 55 56 57 58 59 60 61 62 63 64 65 66 67 68 69 70\n",
      " 71 72 73 74 75 76 77 78 79 80 81 82 83 84 85 86 87 88 89 90 91 92 93 94\n",
      " 95 96 97 98 99] clusters.\n",
      "Loc 27: For eps=4.35678391959799 -> [-1  0  1  2  3  4  5  6  7  8  9 10 11 12 13 14 15 16 17 18 19 20 21 22\n",
      " 23 24 25 26 27 28 29 30 31 32 33 34 35 36 37 38 39 40 41 42 43 44 45 46\n",
      " 47 48 49 50 51 52 53 54 55 56 57 58 59 60 61 62 63 64 65 66 67 68 69 70\n",
      " 71 72 73 74 75 76 77 78 79 80 81 82 83 84 85 86 87 88 89 90 91 92 93 94\n",
      " 95 96] clusters.\n",
      "Loc 28: For eps=4.407035175879397 -> [ -1   0   1   2   3   4   5   6   7   8   9  10  11  12  13  14  15  16\n",
      "  17  18  19  20  21  22  23  24  25  26  27  28  29  30  31  32  33  34\n",
      "  35  36  37  38  39  40  41  42  43  44  45  46  47  48  49  50  51  52\n",
      "  53  54  55  56  57  58  59  60  61  62  63  64  65  66  67  68  69  70\n",
      "  71  72  73  74  75  76  77  78  79  80  81  82  83  84  85  86  87  88\n",
      "  89  90  91  92  93  94  95  96  97  98  99 100 101 102 103 104 105 106\n",
      " 107] clusters.\n",
      "Loc 29: For eps=4.457286432160804 -> [ -1   0   1   2   3   4   5   6   7   8   9  10  11  12  13  14  15  16\n",
      "  17  18  19  20  21  22  23  24  25  26  27  28  29  30  31  32  33  34\n",
      "  35  36  37  38  39  40  41  42  43  44  45  46  47  48  49  50  51  52\n",
      "  53  54  55  56  57  58  59  60  61  62  63  64  65  66  67  68  69  70\n",
      "  71  72  73  74  75  76  77  78  79  80  81  82  83  84  85  86  87  88\n",
      "  89  90  91  92  93  94  95  96  97  98  99 100 101 102 103 104 105 106\n",
      " 107 108 109] clusters.\n",
      "Loc 30: For eps=4.507537688442211 -> [ -1   0   1   2   3   4   5   6   7   8   9  10  11  12  13  14  15  16\n",
      "  17  18  19  20  21  22  23  24  25  26  27  28  29  30  31  32  33  34\n",
      "  35  36  37  38  39  40  41  42  43  44  45  46  47  48  49  50  51  52\n",
      "  53  54  55  56  57  58  59  60  61  62  63  64  65  66  67  68  69  70\n",
      "  71  72  73  74  75  76  77  78  79  80  81  82  83  84  85  86  87  88\n",
      "  89  90  91  92  93  94  95  96  97  98  99 100 101 102 103 104 105 106\n",
      " 107 108 109 110 111 112 113 114 115 116 117 118 119 120 121 122 123 124\n",
      " 125 126] clusters.\n",
      "Loc 31: For eps=4.557788944723618 -> [ -1   0   1   2   3   4   5   6   7   8   9  10  11  12  13  14  15  16\n",
      "  17  18  19  20  21  22  23  24  25  26  27  28  29  30  31  32  33  34\n",
      "  35  36  37  38  39  40  41  42  43  44  45  46  47  48  49  50  51  52\n",
      "  53  54  55  56  57  58  59  60  61  62  63  64  65  66  67  68  69  70\n",
      "  71  72  73  74  75  76  77  78  79  80  81  82  83  84  85  86  87  88\n",
      "  89  90  91  92  93  94  95  96  97  98  99 100 101 102 103 104 105 106\n",
      " 107 108 109 110 111 112 113 114 115 116 117 118 119 120 121 122 123] clusters.\n",
      "Loc 32: For eps=4.608040201005025 -> [ -1   0   1   2   3   4   5   6   7   8   9  10  11  12  13  14  15  16\n",
      "  17  18  19  20  21  22  23  24  25  26  27  28  29  30  31  32  33  34\n",
      "  35  36  37  38  39  40  41  42  43  44  45  46  47  48  49  50  51  52\n",
      "  53  54  55  56  57  58  59  60  61  62  63  64  65  66  67  68  69  70\n",
      "  71  72  73  74  75  76  77  78  79  80  81  82  83  84  85  86  87  88\n",
      "  89  90  91  92  93  94  95  96  97  98  99 100 101 102 103 104 105 106\n",
      " 107 108 109 110 111 112 113 114 115 116 117 118 119] clusters.\n",
      "Loc 33: For eps=4.658291457286432 -> [ -1   0   1   2   3   4   5   6   7   8   9  10  11  12  13  14  15  16\n",
      "  17  18  19  20  21  22  23  24  25  26  27  28  29  30  31  32  33  34\n",
      "  35  36  37  38  39  40  41  42  43  44  45  46  47  48  49  50  51  52\n",
      "  53  54  55  56  57  58  59  60  61  62  63  64  65  66  67  68  69  70\n",
      "  71  72  73  74  75  76  77  78  79  80  81  82  83  84  85  86  87  88\n",
      "  89  90  91  92  93  94  95  96  97  98  99 100 101 102 103 104 105 106\n",
      " 107 108 109 110 111 112 113 114 115 116 117 118 119 120 121 122 123 124\n",
      " 125] clusters.\n",
      "Loc 34: For eps=4.708542713567839 -> [ -1   0   1   2   3   4   5   6   7   8   9  10  11  12  13  14  15  16\n",
      "  17  18  19  20  21  22  23  24  25  26  27  28  29  30  31  32  33  34\n",
      "  35  36  37  38  39  40  41  42  43  44  45  46  47  48  49  50  51  52\n",
      "  53  54  55  56  57  58  59  60  61  62  63  64  65  66  67  68  69  70\n",
      "  71  72  73  74  75  76  77  78  79  80  81  82  83  84  85  86  87  88\n",
      "  89  90  91  92  93  94  95  96  97  98  99 100 101 102 103 104 105 106\n",
      " 107 108 109 110 111 112 113 114 115 116 117 118 119 120 121 122 123 124\n",
      " 125 126 127 128 129 130 131 132 133 134 135 136 137 138 139 140 141 142\n",
      " 143] clusters.\n",
      "Loc 35: For eps=4.758793969849246 -> [ -1   0   1   2   3   4   5   6   7   8   9  10  11  12  13  14  15  16\n",
      "  17  18  19  20  21  22  23  24  25  26  27  28  29  30  31  32  33  34\n",
      "  35  36  37  38  39  40  41  42  43  44  45  46  47  48  49  50  51  52\n",
      "  53  54  55  56  57  58  59  60  61  62  63  64  65  66  67  68  69  70\n",
      "  71  72  73  74  75  76  77  78  79  80  81  82  83  84  85  86  87  88\n",
      "  89  90  91  92  93  94  95  96  97  98  99 100 101 102 103 104 105 106\n",
      " 107 108 109 110 111 112 113 114 115 116 117 118 119 120 121 122 123 124\n",
      " 125 126 127 128 129 130 131 132 133 134 135 136 137 138 139] clusters.\n",
      "Loc 36: For eps=4.809045226130653 -> [ -1   0   1   2   3   4   5   6   7   8   9  10  11  12  13  14  15  16\n",
      "  17  18  19  20  21  22  23  24  25  26  27  28  29  30  31  32  33  34\n",
      "  35  36  37  38  39  40  41  42  43  44  45  46  47  48  49  50  51  52\n",
      "  53  54  55  56  57  58  59  60  61  62  63  64  65  66  67  68  69  70\n",
      "  71  72  73  74  75  76  77  78  79  80  81  82  83  84  85  86  87  88\n",
      "  89  90  91  92  93  94  95  96  97  98  99 100 101 102 103 104 105 106\n",
      " 107 108 109 110 111 112 113 114 115 116 117 118 119 120 121 122 123 124\n",
      " 125 126 127 128 129 130 131 132 133 134 135 136 137 138 139 140 141] clusters.\n",
      "Loc 37: For eps=4.85929648241206 -> [ -1   0   1   2   3   4   5   6   7   8   9  10  11  12  13  14  15  16\n",
      "  17  18  19  20  21  22  23  24  25  26  27  28  29  30  31  32  33  34\n",
      "  35  36  37  38  39  40  41  42  43  44  45  46  47  48  49  50  51  52\n",
      "  53  54  55  56  57  58  59  60  61  62  63  64  65  66  67  68  69  70\n",
      "  71  72  73  74  75  76  77  78  79  80  81  82  83  84  85  86  87  88\n",
      "  89  90  91  92  93  94  95  96  97  98  99 100 101 102 103 104 105 106\n",
      " 107 108 109 110 111 112 113 114 115 116 117 118 119 120 121 122 123 124\n",
      " 125 126 127 128 129 130 131 132 133 134 135] clusters.\n",
      "Loc 38: For eps=4.909547738693467 -> [ -1   0   1   2   3   4   5   6   7   8   9  10  11  12  13  14  15  16\n",
      "  17  18  19  20  21  22  23  24  25  26  27  28  29  30  31  32  33  34\n",
      "  35  36  37  38  39  40  41  42  43  44  45  46  47  48  49  50  51  52\n",
      "  53  54  55  56  57  58  59  60  61  62  63  64  65  66  67  68  69  70\n",
      "  71  72  73  74  75  76  77  78  79  80  81  82  83  84  85  86  87  88\n",
      "  89  90  91  92  93  94  95  96  97  98  99 100 101 102 103 104 105 106\n",
      " 107 108 109 110 111 112 113 114 115 116 117 118 119 120 121 122 123 124\n",
      " 125 126 127 128 129 130 131] clusters.\n",
      "Loc 39: For eps=4.959798994974874 -> [ -1   0   1   2   3   4   5   6   7   8   9  10  11  12  13  14  15  16\n",
      "  17  18  19  20  21  22  23  24  25  26  27  28  29  30  31  32  33  34\n",
      "  35  36  37  38  39  40  41  42  43  44  45  46  47  48  49  50  51  52\n",
      "  53  54  55  56  57  58  59  60  61  62  63  64  65  66  67  68  69  70\n",
      "  71  72  73  74  75  76  77  78  79  80  81  82  83  84  85  86  87  88\n",
      "  89  90  91  92  93  94  95  96  97  98  99 100 101 102 103 104 105 106\n",
      " 107 108 109 110 111 112 113 114 115 116 117 118 119 120 121 122 123 124\n",
      " 125 126 127 128 129 130 131 132 133 134] clusters.\n",
      "Loc 40: For eps=5.010050251256281 -> [ -1   0   1   2   3   4   5   6   7   8   9  10  11  12  13  14  15  16\n",
      "  17  18  19  20  21  22  23  24  25  26  27  28  29  30  31  32  33  34\n",
      "  35  36  37  38  39  40  41  42  43  44  45  46  47  48  49  50  51  52\n",
      "  53  54  55  56  57  58  59  60  61  62  63  64  65  66  67  68  69  70\n",
      "  71  72  73  74  75  76  77  78  79  80  81  82  83  84  85  86  87  88\n",
      "  89  90  91  92  93  94  95  96  97  98  99 100 101 102 103 104 105 106\n",
      " 107 108 109 110 111 112 113 114 115 116 117 118 119 120 121 122 123 124\n",
      " 125 126 127 128 129 130] clusters.\n",
      "Loc 41: For eps=5.060301507537689 -> [ -1   0   1   2   3   4   5   6   7   8   9  10  11  12  13  14  15  16\n",
      "  17  18  19  20  21  22  23  24  25  26  27  28  29  30  31  32  33  34\n",
      "  35  36  37  38  39  40  41  42  43  44  45  46  47  48  49  50  51  52\n",
      "  53  54  55  56  57  58  59  60  61  62  63  64  65  66  67  68  69  70\n",
      "  71  72  73  74  75  76  77  78  79  80  81  82  83  84  85  86  87  88\n",
      "  89  90  91  92  93  94  95  96  97  98  99 100 101 102 103 104 105 106\n",
      " 107 108 109 110 111 112 113 114 115 116 117 118] clusters.\n",
      "Loc 42: For eps=5.110552763819095 -> [ -1   0   1   2   3   4   5   6   7   8   9  10  11  12  13  14  15  16\n",
      "  17  18  19  20  21  22  23  24  25  26  27  28  29  30  31  32  33  34\n",
      "  35  36  37  38  39  40  41  42  43  44  45  46  47  48  49  50  51  52\n",
      "  53  54  55  56  57  58  59  60  61  62  63  64  65  66  67  68  69  70\n",
      "  71  72  73  74  75  76  77  78  79  80  81  82  83  84  85  86  87  88\n",
      "  89  90  91  92  93  94  95  96  97  98  99 100 101 102 103 104 105 106\n",
      " 107 108 109 110 111 112 113 114 115 116 117 118 119 120 121 122 123 124] clusters.\n",
      "Loc 43: For eps=5.160804020100503 -> [ -1   0   1   2   3   4   5   6   7   8   9  10  11  12  13  14  15  16\n",
      "  17  18  19  20  21  22  23  24  25  26  27  28  29  30  31  32  33  34\n",
      "  35  36  37  38  39  40  41  42  43  44  45  46  47  48  49  50  51  52\n",
      "  53  54  55  56  57  58  59  60  61  62  63  64  65  66  67  68  69  70\n",
      "  71  72  73  74  75  76  77  78  79  80  81  82  83  84  85  86  87  88\n",
      "  89  90  91  92  93  94  95  96  97  98  99 100 101 102 103 104 105 106\n",
      " 107 108 109 110 111 112 113 114 115 116 117 118 119 120 121 122 123 124\n",
      " 125 126] clusters.\n",
      "Loc 44: For eps=5.211055276381909 -> [ -1   0   1   2   3   4   5   6   7   8   9  10  11  12  13  14  15  16\n",
      "  17  18  19  20  21  22  23  24  25  26  27  28  29  30  31  32  33  34\n",
      "  35  36  37  38  39  40  41  42  43  44  45  46  47  48  49  50  51  52\n",
      "  53  54  55  56  57  58  59  60  61  62  63  64  65  66  67  68  69  70\n",
      "  71  72  73  74  75  76  77  78  79  80  81  82  83  84  85  86  87  88\n",
      "  89  90  91  92  93  94  95  96  97  98  99 100 101 102 103 104 105 106\n",
      " 107 108 109 110 111 112 113 114 115 116] clusters.\n",
      "Loc 45: For eps=5.261306532663317 -> [ -1   0   1   2   3   4   5   6   7   8   9  10  11  12  13  14  15  16\n",
      "  17  18  19  20  21  22  23  24  25  26  27  28  29  30  31  32  33  34\n",
      "  35  36  37  38  39  40  41  42  43  44  45  46  47  48  49  50  51  52\n",
      "  53  54  55  56  57  58  59  60  61  62  63  64  65  66  67  68  69  70\n",
      "  71  72  73  74  75  76  77  78  79  80  81  82  83  84  85  86  87  88\n",
      "  89  90  91  92  93  94  95  96  97  98  99 100 101 102 103 104 105 106\n",
      " 107 108 109 110 111 112 113 114 115 116 117 118 119 120] clusters.\n",
      "Loc 46: For eps=5.311557788944723 -> [ -1   0   1   2   3   4   5   6   7   8   9  10  11  12  13  14  15  16\n",
      "  17  18  19  20  21  22  23  24  25  26  27  28  29  30  31  32  33  34\n",
      "  35  36  37  38  39  40  41  42  43  44  45  46  47  48  49  50  51  52\n",
      "  53  54  55  56  57  58  59  60  61  62  63  64  65  66  67  68  69  70\n",
      "  71  72  73  74  75  76  77  78  79  80  81  82  83  84  85  86  87  88\n",
      "  89  90  91  92  93  94  95  96  97  98  99 100 101 102 103 104 105 106\n",
      " 107 108 109 110 111 112 113 114] clusters.\n",
      "Loc 47: For eps=5.361809045226131 -> [ -1   0   1   2   3   4   5   6   7   8   9  10  11  12  13  14  15  16\n",
      "  17  18  19  20  21  22  23  24  25  26  27  28  29  30  31  32  33  34\n",
      "  35  36  37  38  39  40  41  42  43  44  45  46  47  48  49  50  51  52\n",
      "  53  54  55  56  57  58  59  60  61  62  63  64  65  66  67  68  69  70\n",
      "  71  72  73  74  75  76  77  78  79  80  81  82  83  84  85  86  87  88\n",
      "  89  90  91  92  93  94  95  96  97  98  99 100 101 102 103 104 105 106\n",
      " 107] clusters.\n",
      "Loc 48: For eps=5.4120603015075375 -> [ -1   0   1   2   3   4   5   6   7   8   9  10  11  12  13  14  15  16\n",
      "  17  18  19  20  21  22  23  24  25  26  27  28  29  30  31  32  33  34\n",
      "  35  36  37  38  39  40  41  42  43  44  45  46  47  48  49  50  51  52\n",
      "  53  54  55  56  57  58  59  60  61  62  63  64  65  66  67  68  69  70\n",
      "  71  72  73  74  75  76  77  78  79  80  81  82  83  84  85  86  87  88\n",
      "  89  90  91  92  93  94  95  96  97  98  99 100] clusters.\n",
      "Loc 49: For eps=5.462311557788945 -> [-1  0  1  2  3  4  5  6  7  8  9 10 11 12 13 14 15 16 17 18 19 20 21 22\n",
      " 23 24 25 26 27 28 29 30 31 32 33 34 35 36 37 38 39 40 41 42 43 44 45 46\n",
      " 47 48 49 50 51 52 53 54 55 56 57 58 59 60 61 62 63 64 65 66 67 68 69 70\n",
      " 71 72 73 74 75 76 77 78 79 80 81 82 83 84 85 86 87 88 89 90 91 92 93 94\n",
      " 95 96] clusters.\n",
      "Loc 50: For eps=5.5125628140703515 -> [-1  0  1  2  3  4  5  6  7  8  9 10 11 12 13 14 15 16 17 18 19 20 21 22\n",
      " 23 24 25 26 27 28 29 30 31 32 33 34 35 36 37 38 39 40 41 42 43 44 45 46\n",
      " 47 48 49 50 51 52 53 54 55 56 57 58 59 60 61 62 63 64 65 66 67 68 69 70\n",
      " 71 72 73 74 75 76 77 78 79 80 81 82 83 84 85 86 87 88 89 90 91 92 93 94\n",
      " 95 96 97] clusters.\n",
      "Loc 51: For eps=5.5628140703517595 -> [-1  0  1  2  3  4  5  6  7  8  9 10 11 12 13 14 15 16 17 18 19 20 21 22\n",
      " 23 24 25 26 27 28 29 30 31 32 33 34 35 36 37 38 39 40 41 42 43 44 45 46\n",
      " 47 48 49 50 51 52 53 54 55 56 57 58 59 60 61 62 63 64 65 66 67 68 69 70\n",
      " 71 72 73 74 75 76 77 78 79 80 81 82 83 84 85 86 87 88 89 90 91 92 93] clusters.\n",
      "Loc 52: For eps=5.613065326633166 -> [-1  0  1  2  3  4  5  6  7  8  9 10 11 12 13 14 15 16 17 18 19 20 21 22\n",
      " 23 24 25 26 27 28 29 30 31 32 33 34 35 36 37 38 39 40 41 42 43 44 45 46\n",
      " 47 48 49 50 51 52 53 54 55 56 57 58 59 60 61 62 63 64 65 66 67 68 69 70\n",
      " 71 72 73 74 75 76 77 78 79 80 81 82 83 84 85 86 87 88 89 90 91 92 93 94\n",
      " 95 96] clusters.\n",
      "Loc 53: For eps=5.6633165829145735 -> [-1  0  1  2  3  4  5  6  7  8  9 10 11 12 13 14 15 16 17 18 19 20 21 22\n",
      " 23 24 25 26 27 28 29 30 31 32 33 34 35 36 37 38 39 40 41 42 43 44 45 46\n",
      " 47 48 49 50 51 52 53 54 55 56 57 58 59 60 61 62 63 64 65 66 67 68 69 70\n",
      " 71 72 73 74 75 76 77 78 79 80 81 82 83 84 85 86 87 88 89 90 91 92 93 94\n",
      " 95 96] clusters.\n",
      "Loc 54: For eps=5.71356783919598 -> [-1  0  1  2  3  4  5  6  7  8  9 10 11 12 13 14 15 16 17 18 19 20 21 22\n",
      " 23 24 25 26 27 28 29 30 31 32 33 34 35 36 37 38 39 40 41 42 43 44 45 46\n",
      " 47 48 49 50 51 52 53 54 55 56 57 58 59 60 61 62 63 64 65 66 67 68 69 70\n",
      " 71 72 73 74 75 76 77 78 79 80 81 82 83 84 85 86] clusters.\n",
      "Loc 55: For eps=5.763819095477388 -> [-1  0  1  2  3  4  5  6  7  8  9 10 11 12 13 14 15 16 17 18 19 20 21 22\n",
      " 23 24 25 26 27 28 29 30 31 32 33 34 35 36 37 38 39 40 41 42 43 44 45 46\n",
      " 47 48 49 50 51 52 53 54 55 56 57 58 59 60 61 62 63 64 65 66 67 68 69 70\n",
      " 71 72 73 74 75 76 77 78 79 80 81] clusters.\n",
      "Loc 56: For eps=5.814070351758794 -> [-1  0  1  2  3  4  5  6  7  8  9 10 11 12 13 14 15 16 17 18 19 20 21 22\n",
      " 23 24 25 26 27 28 29 30 31 32 33 34 35 36 37 38 39 40 41 42 43 44 45 46\n",
      " 47 48 49 50 51 52 53 54 55 56 57 58 59 60 61 62 63 64 65 66 67 68 69 70\n",
      " 71 72 73 74] clusters.\n",
      "Loc 57: For eps=5.864321608040202 -> [-1  0  1  2  3  4  5  6  7  8  9 10 11 12 13 14 15 16 17 18 19 20 21 22\n",
      " 23 24 25 26 27 28 29 30 31 32 33 34 35 36 37 38 39 40 41 42 43 44 45 46\n",
      " 47 48 49 50 51 52 53 54 55 56 57 58 59 60 61 62 63 64 65 66] clusters.\n",
      "Loc 58: For eps=5.914572864321608 -> [-1  0  1  2  3  4  5  6  7  8  9 10 11 12 13 14 15 16 17 18 19 20 21 22\n",
      " 23 24 25 26 27 28 29 30 31 32 33 34 35 36 37 38 39 40 41 42 43 44 45 46\n",
      " 47 48 49 50 51 52 53 54 55 56 57 58 59 60 61 62 63 64 65 66 67 68] clusters.\n",
      "Loc 59: For eps=5.964824120603016 -> [-1  0  1  2  3  4  5  6  7  8  9 10 11 12 13 14 15 16 17 18 19 20 21 22\n",
      " 23 24 25 26 27 28 29 30 31 32 33 34 35 36 37 38 39 40 41 42 43 44 45 46\n",
      " 47 48 49 50 51 52 53 54 55 56 57 58 59 60 61 62 63 64] clusters.\n",
      "Loc 60: For eps=6.015075376884422 -> [-1  0  1  2  3  4  5  6  7  8  9 10 11 12 13 14 15 16 17 18 19 20 21 22\n",
      " 23 24 25 26 27 28 29 30 31 32 33 34 35 36 37 38 39 40 41 42 43 44 45 46\n",
      " 47 48 49 50 51 52 53 54 55 56 57] clusters.\n",
      "Loc 61: For eps=6.06532663316583 -> [-1  0  1  2  3  4  5  6  7  8  9 10 11 12 13 14 15 16 17 18 19 20 21 22\n",
      " 23 24 25 26 27 28 29 30 31 32 33 34 35 36 37 38 39 40 41 42 43 44 45 46\n",
      " 47 48 49 50 51 52] clusters.\n",
      "Loc 62: For eps=6.115577889447236 -> [-1  0  1  2  3  4  5  6  7  8  9 10 11 12 13 14 15 16 17 18 19 20 21 22\n",
      " 23 24 25 26 27 28 29 30 31 32 33 34 35 36 37 38 39 40 41 42 43 44 45 46\n",
      " 47 48 49] clusters.\n",
      "Loc 63: For eps=6.165829145728644 -> [-1  0  1  2  3  4  5  6  7  8  9 10 11 12 13 14 15 16 17 18 19 20 21 22\n",
      " 23 24 25 26 27 28 29 30 31 32 33 34 35 36 37 38 39 40 41 42 43] clusters.\n",
      "Loc 64: For eps=6.21608040201005 -> [-1  0  1  2  3  4  5  6  7  8  9 10 11 12 13 14 15 16 17 18 19 20 21 22\n",
      " 23 24 25 26 27 28 29 30 31 32 33 34 35 36 37 38 39 40 41] clusters.\n",
      "Loc 65: For eps=6.266331658291458 -> [-1  0  1  2  3  4  5  6  7  8  9 10 11 12 13 14 15 16 17 18 19 20 21 22\n",
      " 23 24 25 26 27 28 29 30 31 32 33 34 35 36 37 38 39 40] clusters.\n",
      "Loc 66: For eps=6.316582914572864 -> [-1  0  1  2  3  4  5  6  7  8  9 10 11 12 13 14 15 16 17 18 19 20 21 22\n",
      " 23 24 25 26 27 28 29 30 31 32 33 34 35 36 37 38] clusters.\n",
      "Loc 67: For eps=6.366834170854272 -> [-1  0  1  2  3  4  5  6  7  8  9 10 11 12 13 14 15 16 17 18 19 20 21 22\n",
      " 23 24 25 26 27 28 29 30 31 32 33 34 35 36] clusters.\n",
      "Loc 68: For eps=6.417085427135678 -> [-1  0  1  2  3  4  5  6  7  8  9 10 11 12 13 14 15 16 17 18 19 20 21 22\n",
      " 23 24 25 26 27 28 29 30 31 32 33 34 35] clusters.\n",
      "Loc 69: For eps=6.467336683417086 -> [-1  0  1  2  3  4  5  6  7  8  9 10 11 12 13 14 15 16 17 18 19 20 21 22\n",
      " 23 24 25 26 27 28 29 30 31 32 33 34 35] clusters.\n",
      "Loc 70: For eps=6.517587939698492 -> [-1  0  1  2  3  4  5  6  7  8  9 10 11 12 13 14 15 16 17 18 19 20 21 22\n",
      " 23 24 25 26 27 28 29 30 31 32 33] clusters.\n",
      "Loc 71: For eps=6.5678391959799 -> [-1  0  1  2  3  4  5  6  7  8  9 10 11 12 13 14 15 16 17 18 19 20 21 22\n",
      " 23 24 25 26 27 28 29 30 31 32] clusters.\n",
      "Loc 72: For eps=6.618090452261306 -> [-1  0  1  2  3  4  5  6  7  8  9 10 11 12 13 14 15 16 17 18 19 20 21 22\n",
      " 23 24 25 26 27 28 29 30] clusters.\n",
      "Loc 73: For eps=6.668341708542714 -> [-1  0  1  2  3  4  5  6  7  8  9 10 11 12 13 14 15 16 17 18 19 20 21 22\n",
      " 23 24 25 26 27 28 29 30] clusters.\n",
      "Loc 74: For eps=6.71859296482412 -> [-1  0  1  2  3  4  5  6  7  8  9 10 11 12 13 14 15 16 17 18 19 20 21 22\n",
      " 23 24 25 26 27 28 29 30] clusters.\n",
      "Loc 75: For eps=6.768844221105528 -> [-1  0  1  2  3  4  5  6  7  8  9 10 11 12 13 14 15 16 17 18 19 20 21 22\n",
      " 23 24 25 26 27 28 29 30 31] clusters.\n",
      "Loc 76: For eps=6.819095477386934 -> [-1  0  1  2  3  4  5  6  7  8  9 10 11 12 13 14 15 16 17 18 19 20 21 22\n",
      " 23 24 25 26 27 28 29 30 31] clusters.\n",
      "Loc 77: For eps=6.869346733668342 -> [-1  0  1  2  3  4  5  6  7  8  9 10 11 12 13 14 15 16 17 18 19 20 21 22\n",
      " 23 24 25 26 27 28 29 30 31] clusters.\n",
      "Loc 78: For eps=6.919597989949748 -> [-1  0  1  2  3  4  5  6  7  8  9 10 11 12 13 14 15 16 17 18 19 20 21 22\n",
      " 23 24 25 26 27 28 29 30 31] clusters.\n",
      "Loc 79: For eps=6.969849246231156 -> [-1  0  1  2  3  4  5  6  7  8  9 10 11 12 13 14 15 16 17 18 19 20 21 22\n",
      " 23 24 25 26 27 28 29 30 31 32] clusters.\n",
      "Loc 80: For eps=7.020100502512563 -> [-1  0  1  2  3  4  5  6  7  8  9 10 11 12 13 14 15 16 17 18 19 20 21 22\n",
      " 23 24 25 26 27 28] clusters.\n",
      "Loc 81: For eps=7.07035175879397 -> [-1  0  1  2  3  4  5  6  7  8  9 10 11 12 13 14 15 16 17 18 19 20 21 22\n",
      " 23 24 25 26 27 28] clusters.\n",
      "Loc 82: For eps=7.120603015075377 -> [-1  0  1  2  3  4  5  6  7  8  9 10 11 12 13 14 15 16 17 18 19 20 21 22\n",
      " 23 24 25 26 27 28] clusters.\n",
      "Loc 83: For eps=7.170854271356784 -> [-1  0  1  2  3  4  5  6  7  8  9 10 11 12 13 14 15 16 17 18 19 20 21 22\n",
      " 23 24 25 26 27 28] clusters.\n",
      "Loc 84: For eps=7.2211055276381915 -> [-1  0  1  2  3  4  5  6  7  8  9 10 11 12 13 14 15 16 17 18 19 20 21 22\n",
      " 23 24 25 26 27] clusters.\n",
      "Loc 85: For eps=7.2713567839195985 -> [-1  0  1  2  3  4  5  6  7  8  9 10 11 12 13 14 15 16 17 18 19 20 21 22\n",
      " 23 24 25 26 27 28] clusters.\n",
      "Loc 86: For eps=7.3216080402010055 -> [-1  0  1  2  3  4  5  6  7  8  9 10 11 12 13 14 15 16 17 18 19 20 21 22\n",
      " 23 24 25 26 27 28] clusters.\n",
      "Loc 87: For eps=7.371859296482413 -> [-1  0  1  2  3  4  5  6  7  8  9 10 11 12 13 14 15 16 17 18 19 20 21 22\n",
      " 23 24 25 26 27 28] clusters.\n",
      "Loc 88: For eps=7.42211055276382 -> [-1  0  1  2  3  4  5  6  7  8  9 10 11 12 13 14 15 16 17 18 19 20 21 22\n",
      " 23 24 25 26 27 28] clusters.\n",
      "Loc 89: For eps=7.472361809045227 -> [-1  0  1  2  3  4  5  6  7  8  9 10 11 12 13 14 15 16 17 18 19 20 21 22\n",
      " 23 24 25 26 27 28] clusters.\n",
      "Loc 90: For eps=7.522613065326634 -> [-1  0  1  2  3  4  5  6  7  8  9 10 11 12 13 14 15 16 17 18 19 20 21 22\n",
      " 23 24 25 26 27 28] clusters.\n",
      "Loc 91: For eps=7.572864321608041 -> [-1  0  1  2  3  4  5  6  7  8  9 10 11 12 13 14 15 16 17 18 19 20 21 22\n",
      " 23 24 25 26] clusters.\n",
      "Loc 92: For eps=7.623115577889448 -> [-1  0  1  2  3  4  5  6  7  8  9 10 11 12 13 14 15 16 17 18 19 20 21 22\n",
      " 23 24 25] clusters.\n",
      "Loc 93: For eps=7.673366834170855 -> [-1  0  1  2  3  4  5  6  7  8  9 10 11 12 13 14 15 16 17 18 19 20 21 22\n",
      " 23 24 25] clusters.\n",
      "Loc 94: For eps=7.723618090452262 -> [-1  0  1  2  3  4  5  6  7  8  9 10 11 12 13 14 15 16 17 18 19 20 21 22\n",
      " 23 24 25] clusters.\n",
      "Loc 95: For eps=7.773869346733669 -> [-1  0  1  2  3  4  5  6  7  8  9 10 11 12 13 14 15 16 17 18 19 20 21 22\n",
      " 23 24 25] clusters.\n",
      "Loc 96: For eps=7.824120603015076 -> [-1  0  1  2  3  4  5  6  7  8  9 10 11 12 13 14 15 16 17 18 19 20 21 22\n",
      " 23 24 25] clusters.\n",
      "Loc 97: For eps=7.874371859296483 -> [-1  0  1  2  3  4  5  6  7  8  9 10 11 12 13 14 15 16 17 18 19 20 21 22\n",
      " 23 24 25] clusters.\n",
      "Loc 98: For eps=7.92462311557789 -> [-1  0  1  2  3  4  5  6  7  8  9 10 11 12 13 14 15 16 17 18 19 20 21 22\n",
      " 23 24 25] clusters.\n",
      "Loc 99: For eps=7.974874371859297 -> [-1  0  1  2  3  4  5  6  7  8  9 10 11 12 13 14 15 16 17 18 19 20 21 22\n",
      " 23 24 25] clusters.\n",
      "Loc 100: For eps=8.025125628140703 -> [-1  0  1  2  3  4  5  6  7  8  9 10 11 12 13 14 15 16 17 18 19 20 21 22\n",
      " 23 24 25] clusters.\n",
      "Loc 101: For eps=8.075376884422111 -> [-1  0  1  2  3  4  5  6  7  8  9 10 11 12 13 14 15 16 17 18 19 20 21 22\n",
      " 23 24 25] clusters.\n",
      "Loc 102: For eps=8.125628140703519 -> [-1  0  1  2  3  4  5  6  7  8  9 10 11 12 13 14 15 16 17 18 19 20 21 22\n",
      " 23 24 25] clusters.\n",
      "Loc 103: For eps=8.175879396984925 -> [-1  0  1  2  3  4  5  6  7  8  9 10 11 12 13 14 15 16 17 18 19 20 21 22\n",
      " 23 24] clusters.\n",
      "Loc 104: For eps=8.226130653266331 -> [-1  0  1  2  3  4  5  6  7  8  9 10 11 12 13 14 15 16 17 18 19 20 21 22\n",
      " 23] clusters.\n",
      "Loc 105: For eps=8.27638190954774 -> [-1  0  1  2  3  4  5  6  7  8  9 10 11 12 13 14 15 16 17 18 19 20 21 22\n",
      " 23] clusters.\n",
      "Loc 106: For eps=8.326633165829147 -> [-1  0  1  2  3  4  5  6  7  8  9 10 11 12 13 14 15 16 17 18 19 20 21 22\n",
      " 23] clusters.\n",
      "Loc 107: For eps=8.376884422110553 -> [-1  0  1  2  3  4  5  6  7  8  9 10 11 12 13 14 15 16 17 18 19 20 21 22\n",
      " 23] clusters.\n",
      "Loc 108: For eps=8.42713567839196 -> [-1  0  1  2  3  4  5  6  7  8  9 10 11 12 13 14 15 16 17 18 19 20 21 22\n",
      " 23] clusters.\n",
      "Loc 109: For eps=8.477386934673367 -> [-1  0  1  2  3  4  5  6  7  8  9 10 11 12 13 14 15 16 17 18 19 20 21 22] clusters.\n",
      "Loc 110: For eps=8.527638190954775 -> [-1  0  1  2  3  4  5  6  7  8  9 10 11 12 13 14 15 16 17 18 19 20] clusters.\n"
     ]
    },
    {
     "name": "stdout",
     "output_type": "stream",
     "text": [
      "Loc 111: For eps=8.577889447236181 -> [-1  0  1  2  3  4  5  6  7  8  9 10 11 12 13 14 15 16 17 18 19] clusters.\n",
      "Loc 112: For eps=8.628140703517587 -> [-1  0  1  2  3  4  5  6  7  8  9 10 11 12 13 14 15 16 17 18] clusters.\n",
      "Loc 113: For eps=8.678391959798995 -> [-1  0  1  2  3  4  5  6  7  8  9 10 11 12 13 14 15 16 17 18] clusters.\n",
      "Loc 114: For eps=8.728643216080403 -> [-1  0  1  2  3  4  5  6  7  8  9 10 11 12 13 14 15 16 17] clusters.\n",
      "Loc 115: For eps=8.77889447236181 -> [-1  0  1  2  3  4  5  6  7  8  9 10 11 12 13 14 15 16] clusters.\n",
      "Loc 116: For eps=8.829145728643216 -> [-1  0  1  2  3  4  5  6  7  8  9 10 11 12 13] clusters.\n",
      "Loc 117: For eps=8.879396984924623 -> [-1  0  1  2  3  4  5  6  7  8  9 10 11 12] clusters.\n",
      "Loc 118: For eps=8.929648241206031 -> [-1  0  1  2  3  4  5  6  7  8  9 10 11 12] clusters.\n",
      "Loc 119: For eps=8.979899497487438 -> [-1  0  1  2  3  4  5  6  7  8  9 10 11 12] clusters.\n",
      "Loc 120: For eps=9.030150753768844 -> [-1  0  1  2  3  4  5  6  7  8  9 10 11 12] clusters.\n",
      "Loc 121: For eps=9.080402010050252 -> [-1  0  1  2  3  4  5  6  7  8  9 10 11 12] clusters.\n",
      "Loc 122: For eps=9.13065326633166 -> [-1  0  1  2  3  4  5  6  7  8  9 10 11 12] clusters.\n",
      "Loc 123: For eps=9.180904522613066 -> [-1  0  1  2  3  4  5  6  7  8  9 10 11 12] clusters.\n",
      "Loc 124: For eps=9.231155778894472 -> [-1  0  1  2  3  4  5  6  7  8  9 10 11 12] clusters.\n",
      "Loc 125: For eps=9.28140703517588 -> [-1  0  1  2  3  4  5  6  7  8  9 10 11] clusters.\n",
      "Loc 126: For eps=9.331658291457288 -> [-1  0  1  2  3  4  5  6  7  8  9 10] clusters.\n",
      "Loc 127: For eps=9.381909547738694 -> [-1  0  1  2  3  4  5  6  7  8  9 10] clusters.\n",
      "Loc 128: For eps=9.4321608040201 -> [-1  0  1  2  3  4  5  6  7  8  9 10] clusters.\n",
      "Loc 129: For eps=9.482412060301508 -> [-1  0  1  2  3  4  5  6  7  8  9] clusters.\n",
      "Loc 130: For eps=9.532663316582916 -> [-1  0  1  2  3  4  5  6  7  8  9] clusters.\n",
      "Loc 131: For eps=9.582914572864322 -> [-1  0  1  2  3  4  5  6  7  8  9] clusters.\n",
      "Loc 132: For eps=9.633165829145728 -> [-1  0  1  2  3  4  5  6  7  8] clusters.\n",
      "Loc 133: For eps=9.683417085427136 -> [-1  0  1  2  3  4  5  6  7  8] clusters.\n",
      "Loc 134: For eps=9.733668341708544 -> [-1  0  1  2  3  4  5  6  7] clusters.\n",
      "Loc 135: For eps=9.78391959798995 -> [-1  0  1  2  3  4  5  6  7] clusters.\n",
      "Loc 136: For eps=9.834170854271356 -> [-1  0  1  2  3  4  5  6  7] clusters.\n",
      "Loc 137: For eps=9.884422110552764 -> [-1  0  1  2  3  4  5  6  7] clusters.\n",
      "Loc 138: For eps=9.934673366834172 -> [-1  0  1  2  3  4  5  6  7] clusters.\n",
      "Loc 139: For eps=9.984924623115578 -> [-1  0  1  2  3  4  5  6  7] clusters.\n",
      "Loc 140: For eps=10.035175879396984 -> [-1  0  1  2  3  4  5  6  7] clusters.\n",
      "Loc 141: For eps=10.085427135678392 -> [-1  0  1  2  3  4  5  6  7] clusters.\n",
      "Loc 142: For eps=10.1356783919598 -> [-1  0  1  2  3  4  5  6  7] clusters.\n",
      "Loc 143: For eps=10.185929648241206 -> [-1  0  1  2  3  4  5  6  7] clusters.\n",
      "Loc 144: For eps=10.236180904522612 -> [-1  0  1  2  3  4  5  6  7] clusters.\n",
      "Loc 145: For eps=10.28643216080402 -> [-1  0  1  2  3  4  5  6  7] clusters.\n",
      "Loc 146: For eps=10.336683417085428 -> [-1  0  1  2  3  4  5  6] clusters.\n",
      "Loc 147: For eps=10.386934673366834 -> [-1  0  1  2  3  4  5  6] clusters.\n",
      "Loc 148: For eps=10.43718592964824 -> [-1  0  1  2  3  4  5  6] clusters.\n",
      "Loc 149: For eps=10.487437185929648 -> [-1  0  1  2  3  4  5  6] clusters.\n",
      "Loc 150: For eps=10.537688442211056 -> [-1  0  1  2  3  4  5  6] clusters.\n",
      "Loc 151: For eps=10.587939698492463 -> [-1  0  1  2  3  4  5  6] clusters.\n",
      "Loc 152: For eps=10.638190954773869 -> [-1  0  1  2  3  4  5  6] clusters.\n",
      "Loc 153: For eps=10.688442211055277 -> [-1  0  1  2  3  4  5  6] clusters.\n",
      "Loc 154: For eps=10.738693467336685 -> [-1  0  1  2  3  4  5  6] clusters.\n",
      "Loc 155: For eps=10.78894472361809 -> [-1  0  1  2  3  4  5  6] clusters.\n",
      "Loc 156: For eps=10.839195979899497 -> [-1  0  1  2  3  4  5  6] clusters.\n",
      "Loc 157: For eps=10.889447236180905 -> [-1  0  1  2  3  4  5  6] clusters.\n",
      "Loc 158: For eps=10.939698492462313 -> [-1  0  1  2  3  4  5  6] clusters.\n",
      "Loc 159: For eps=10.989949748743719 -> [-1  0  1  2  3  4  5  6] clusters.\n",
      "Loc 160: For eps=11.040201005025127 -> [-1  0  1  2  3  4  5  6] clusters.\n",
      "Loc 161: For eps=11.090452261306533 -> [-1  0  1  2  3  4  5  6] clusters.\n",
      "Loc 162: For eps=11.14070351758794 -> [-1  0  1  2  3  4  5  6] clusters.\n",
      "Loc 163: For eps=11.190954773869347 -> [-1  0  1  2  3  4  5  6] clusters.\n",
      "Loc 164: For eps=11.241206030150755 -> [-1  0  1  2  3  4  5  6] clusters.\n",
      "Loc 165: For eps=11.291457286432161 -> [-1  0  1  2  3  4  5  6] clusters.\n",
      "Loc 166: For eps=11.341708542713569 -> [-1  0  1  2  3  4  5  6] clusters.\n",
      "Loc 167: For eps=11.391959798994975 -> [-1  0  1  2  3  4  5  6] clusters.\n",
      "Loc 168: For eps=11.442211055276383 -> [-1  0  1  2  3  4  5  6] clusters.\n",
      "Loc 169: For eps=11.492462311557789 -> [-1  0  1  2  3  4  5  6] clusters.\n",
      "Loc 170: For eps=11.542713567839197 -> [-1  0  1  2  3  4  5  6] clusters.\n",
      "Loc 171: For eps=11.592964824120603 -> [-1  0  1  2  3  4  5  6] clusters.\n",
      "Loc 172: For eps=11.643216080402011 -> [-1  0  1  2  3  4  5  6] clusters.\n",
      "Loc 173: For eps=11.693467336683417 -> [-1  0  1  2  3  4  5  6] clusters.\n",
      "Loc 174: For eps=11.743718592964825 -> [-1  0  1  2  3  4  5  6] clusters.\n",
      "Loc 175: For eps=11.793969849246231 -> [-1  0  1  2  3  4  5  6] clusters.\n",
      "Loc 176: For eps=11.84422110552764 -> [-1  0  1  2  3  4  5  6] clusters.\n",
      "Loc 177: For eps=11.894472361809045 -> [-1  0  1  2  3  4  5] clusters.\n",
      "Loc 178: For eps=11.944723618090453 -> [-1  0  1  2  3  4  5] clusters.\n",
      "Loc 179: For eps=11.99497487437186 -> [-1  0  1  2  3  4  5] clusters.\n",
      "Loc 180: For eps=12.045226130653267 -> [-1  0  1  2  3  4  5] clusters.\n",
      "Loc 181: For eps=12.095477386934673 -> [-1  0  1  2  3  4] clusters.\n",
      "Loc 182: For eps=12.145728643216081 -> [-1  0  1  2  3] clusters.\n",
      "Loc 183: For eps=12.195979899497488 -> [-1  0  1  2] clusters.\n",
      "Loc 184: For eps=12.246231155778895 -> [-1  0  1  2] clusters.\n",
      "Loc 185: For eps=12.296482412060302 -> [-1  0  1] clusters.\n",
      "Loc 186: For eps=12.34673366834171 -> [-1  0  1] clusters.\n",
      "Loc 187: For eps=12.396984924623116 -> [-1  0  1] clusters.\n",
      "Loc 188: For eps=12.447236180904524 -> [-1  0  1] clusters.\n",
      "Loc 189: For eps=12.49748743718593 -> [-1  0] clusters.\n",
      "Loc 190: For eps=12.547738693467338 -> [-1  0] clusters.\n",
      "Loc 191: For eps=12.597989949748744 -> [-1  0] clusters.\n",
      "Loc 192: For eps=12.648241206030152 -> [-1  0] clusters.\n",
      "Loc 193: For eps=12.698492462311558 -> [-1  0] clusters.\n",
      "Loc 194: For eps=12.748743718592966 -> [-1  0] clusters.\n",
      "Loc 195: For eps=12.798994974874372 -> [-1  0] clusters.\n",
      "Loc 196: For eps=12.84924623115578 -> [-1  0] clusters.\n",
      "Loc 197: For eps=12.899497487437186 -> [-1  0] clusters.\n",
      "Loc 198: For eps=12.949748743718594 -> [-1  0] clusters.\n",
      "Loc 199: For eps=13.0 -> [-1  0] clusters.\n"
     ]
    }
   ],
   "source": [
    "from sklearn.cluster import DBSCAN\n",
    "\n",
    "epsilons = np.linspace(3, 13, 200)\n",
    "dbscans = [DBSCAN(eps=eps).fit(X) for eps in epsilons]\n",
    "\n",
    "for i, scan in enumerate(dbscans):\n",
    "    print(f'Loc {i}: For eps={epsilons[i]} -> {np.unique(scan.labels_)} clusters.')"
   ]
  },
  {
   "cell_type": "markdown",
   "metadata": {},
   "source": [
    "As we can see, for `eps=12.25` we got 3 clusters.  \n",
    "Let's look at separation.  \n",
    "The true separation is:"
   ]
  },
  {
   "cell_type": "code",
   "execution_count": 158,
   "metadata": {
    "ExecuteTime": {
     "end_time": "2020-10-12T13:00:15.509317Z",
     "start_time": "2020-10-12T13:00:15.475328Z"
    }
   },
   "outputs": [
    {
     "name": "stdout",
     "output_type": "stream",
     "text": [
      "[['D' 5528]\n",
      " ['F' 3188]\n",
      " ['M' 6366]]\n"
     ]
    }
   ],
   "source": [
    "unique_l, counts_l = np.unique(labels_reduced, return_counts=True)\n",
    "\n",
    "print(np.asarray((unique_l, counts_l)).T)"
   ]
  },
  {
   "cell_type": "markdown",
   "metadata": {},
   "source": [
    "And the best separation:"
   ]
  },
  {
   "cell_type": "code",
   "execution_count": 155,
   "metadata": {
    "ExecuteTime": {
     "end_time": "2020-10-12T12:50:03.785685Z",
     "start_time": "2020-10-12T12:48:31.410820Z"
    }
   },
   "outputs": [
    {
     "name": "stdout",
     "output_type": "stream",
     "text": [
      "[[    0 14855]\n",
      " [    1   110]\n",
      " [    2   112]\n",
      " [  999     5]]\n"
     ]
    }
   ],
   "source": [
    "dbscan = DBSCAN(eps=12.25).fit(X)\n",
    "t = dbscan.labels_\n",
    "t[t<0] = 999\n",
    "unique, counts = np.unique(t, return_counts=True)\n",
    "\n",
    "print(np.asarray((unique, counts)).T)"
   ]
  },
  {
   "cell_type": "markdown",
   "metadata": {},
   "source": [
    "The results are pretty bad.  \n",
    "We need to keep investigate why the clustering process fails.  \n",
    "The next step we should make need to lead us to a better understanding of the samples scatter."
   ]
  },
  {
   "cell_type": "markdown",
   "metadata": {},
   "source": [
    "## 3. Dimenstionality Reduction"
   ]
  },
  {
   "cell_type": "markdown",
   "metadata": {},
   "source": [
    "I'd like to use PCA to see how the samples are scattered:"
   ]
  },
  {
   "cell_type": "code",
   "execution_count": 111,
   "metadata": {
    "ExecuteTime": {
     "end_time": "2020-10-12T07:58:56.673426Z",
     "start_time": "2020-10-12T07:58:56.165389Z"
    }
   },
   "outputs": [
    {
     "name": "stdout",
     "output_type": "stream",
     "text": [
      "('F', 'b')\n",
      "('M', 'r')\n",
      "('D', 'g')\n"
     ]
    },
    {
     "data": {
      "text/plain": [
       "<matplotlib.legend.Legend at 0x222584a3b80>"
      ]
     },
     "execution_count": 111,
     "metadata": {},
     "output_type": "execute_result"
    },
    {
     "data": {
      "image/png": "[encoded data removed]",
      "text/plain": [
       "<Figure size 720x864 with 1 Axes>"
      ]
     },
     "metadata": {
      "needs_background": "light"
     },
     "output_type": "display_data"
    }
   ],
   "source": [
    "from sklearn.decomposition import PCA\n",
    "\n",
    "pca = PCA(n_components=2).fit(X)\n",
    "x_pca = pca.transform(X)\n",
    "\n",
    "colors_map = zip(labels_reduced, ['b', 'r', 'g'])\n",
    "\n",
    "f = plt.figure(figsize=(10,12))\n",
    "for c in colors_map:\n",
    "    plt.scatter(x_pca[y == c[0], 0], x_pca[y == c[0], 1], c=c[1])\n",
    "    print(c)\n",
    "plt.legend(labels_reduced)"
   ]
  },
  {
   "cell_type": "markdown",
   "metadata": {},
   "source": [
    "The samples (in realy amazing way) scattered like in field!  \n",
    "There's a clear separation between the *Forward* and the *Defensive* players, while the *Midfielder* players in the middle! (I guess that the red dots which closer to defensive player represent the backward midfielder player, vice versa..)  \n",
    "So we can try a different approach: instead of cluster the data once, we can first seperate the data to 2 clusters: backward and forward, and then re-cluster each cluster to separate the midfielders from the others."
   ]
  },
  {
   "cell_type": "markdown",
   "metadata": {},
   "source": [
    "##  4. Second Clustering Attempt"
   ]
  },
  {
   "cell_type": "markdown",
   "metadata": {},
   "source": [
    "First, let's map again the positions to higer-level classes:"
   ]
  },
  {
   "cell_type": "code",
   "execution_count": null,
   "metadata": {},
   "outputs": [],
   "source": [
    "classes_mapping_high = {\n",
    "    'CAM' : 'F',\n",
    "    'CDM' : 'D',\n",
    "    'CM' : 'F',\n",
    "    'LM' : 'M',\n",
    "    'RM' : 'M',\n",
    "    'CB' : 'D',\n",
    "    'LB' : 'D',\n",
    "    'LWB' : 'D',\n",
    "    'RB' : 'D',\n",
    "    'RWB' : 'D',\n",
    "    'CF' : 'F',\n",
    "    'LW' : 'F',\n",
    "    'RW' : 'F',\n",
    "    'ST' : 'F',\n",
    "}\n",
    "labels_reduced_high = labels.replace(classes_mapping)"
   ]
  }
 ],
 "metadata": {
  "kernelspec": {
   "display_name": "Python 3",
   "language": "python",
   "name": "python3"
  },
  "language_info": {
   "codemirror_mode": {
    "name": "ipython",
    "version": 3
   },
   "file_extension": ".py",
   "mimetype": "text/x-python",
   "name": "python",
   "nbconvert_exporter": "python",
   "pygments_lexer": "ipython3",
   "version": "3.8.3"
  }
 },
 "nbformat": 4,
 "nbformat_minor": 4
}
